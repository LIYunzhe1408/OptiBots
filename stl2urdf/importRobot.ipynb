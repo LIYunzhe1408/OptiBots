{
 "cells": [
  {
   "cell_type": "code",
   "execution_count": 3,
   "id": "e719f99a-0f86-4bb5-ab41-597e437f18ec",
   "metadata": {},
   "outputs": [],
   "source": [
    "from pathlib import Path"
   ]
  },
  {
   "cell_type": "code",
   "execution_count": 2,
   "id": "8941c8d2-04db-4166-beea-b76175f09ee2",
   "metadata": {
    "scrolled": true
   },
   "outputs": [
    {
     "name": "stderr",
     "output_type": "stream",
     "text": [
      "2024-11-25 19:26:14,222 Timor INFO Loading custom configurations from /home/jonas/.config/timor.config\n",
      "Warning: link 'rod_link_1' material 'grey' undefined.\n",
      "         at line 84 in /src/urdfdom/urdf_parser/src/model.cpp\n",
      "Warning: link 'rod_link_1' material 'grey' undefined.\n",
      "         at line 84 in /src/urdfdom/urdf_parser/src/model.cpp\n",
      "Warning: link 'rod_link_1' material 'grey' undefined.\n",
      "         at line 84 in /src/urdfdom/urdf_parser/src/model.cpp\n",
      "Warning: link 'rod_link_1' material 'grey' undefined.\n",
      "         at line 84 in /src/urdfdom/urdf_parser/src/model.cpp\n",
      "Warning: link 'rod_link_1' material 'grey' undefined.\n",
      "         at line 84 in /src/urdfdom/urdf_parser/src/model.cpp\n",
      "Warning: link 'rod_link_1' material 'grey' undefined.\n",
      "         at line 84 in /src/urdfdom/urdf_parser/src/model.cpp\n"
     ]
    },
    {
     "name": "stdout",
     "output_type": "stream",
     "text": [
      "You can open the visualizer by visiting the following URL:\n",
      "http://127.0.0.1:7000/static/\n"
     ]
    }
   ],
   "source": [
    "from timor.Robot import PinRobot, RobotBase\n",
    "robot = PinRobot.from_urdf(Path(\"include.urdf\"), Path(\"\"))\n",
    "viz = robot.visualize()"
   ]
  }
 ],
 "metadata": {
  "kernelspec": {
   "display_name": "Python 3 (ipykernel)",
   "language": "python",
   "name": "python3"
  },
  "language_info": {
   "codemirror_mode": {
    "name": "ipython",
    "version": 3
   },
   "file_extension": ".py",
   "mimetype": "text/x-python",
   "name": "python",
   "nbconvert_exporter": "python",
   "pygments_lexer": "ipython3",
   "version": "3.10.15"
  }
 },
 "nbformat": 4,
 "nbformat_minor": 5
}
