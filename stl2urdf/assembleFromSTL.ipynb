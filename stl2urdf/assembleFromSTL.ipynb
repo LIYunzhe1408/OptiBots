{
 "cells": [
  {
   "cell_type": "code",
   "execution_count": 1,
   "id": "b82d2271-7cff-46c6-9402-202af38cb1c5",
   "metadata": {},
   "outputs": [
    {
     "name": "stderr",
     "output_type": "stream",
     "text": [
      "2024-12-04 14:34:24,859 Timor INFO Loading custom configurations from /home/jonas/.config/timor.config\n"
     ]
    }
   ],
   "source": [
    "from timor.Bodies import Body, Connector, Gender\n",
    "from timor.Joints import Joint\n",
    "from timor.Module import AtomicModule, ModulesDB, ModuleHeader\n",
    "import xml.etree.ElementTree as ET\n",
    "import numpy as np\n",
    "from timor.Robot import PinRobot, RobotBase\n",
    "from pathlib import Path\n",
    "import pinocchio as pin\n",
    "from timor.Geometry import Box, ComposedGeometry, Cylinder, Sphere\n",
    "from timor.utilities.transformation import Transformation\n",
    "\n",
    "from timor.utilities.spatial import rotX, rotY, rotZ"
   ]
  },
  {
   "cell_type": "code",
   "execution_count": 2,
   "id": "e6e6842a-d50b-42d0-85b8-59993f81489c",
   "metadata": {},
   "outputs": [],
   "source": [
    "\n",
    "density = 1200  # kg / m3 estimated overall material density\n",
    "inner_diameter = 60 / 1000  # assume the links are hollow, with 5cm thick walls\n",
    "\n",
    "def cylinder_mass(l: float, r: float, r_inner: float = 0) -> float:\n",
    "    \"\"\"Calculates the mass of a (hollow) cylinder\"\"\"\n",
    "    mass = density * l * np.pi * r ** 2\n",
    "    hollow_mass = density * l * np.pi * r_inner ** 2\n",
    "    return mass - hollow_mass\n",
    "\n",
    "\n",
    "def cylinder_inertia(l: float, r: float, r_inner: float = 0):\n",
    "    \"\"\"Calculates the inertia of a (hollow) cylinder, assuming a centered coordinate system\"\"\"\n",
    "    mass = cylinder_mass(l, r, r_inner)\n",
    "    lever = np.asarray([0, 0, 0])\n",
    "    I = np.zeros((3, 3))\n",
    "    I[0, 0] = (1 / 12) * mass * (3 * (r_inner ** 2 + r ** 2) + l ** 2)\n",
    "    I[1, 1] = I[0, 0]\n",
    "    I[2, 2] = .5 * mass * (r_inner ** 2 + r ** 2)\n",
    "\n",
    "    return pin.Inertia(mass, lever, I)"
   ]
  },
  {
   "cell_type": "code",
   "execution_count": 3,
   "id": "8ba06f45-a683-4b99-a326-3a0a3a7790f5",
   "metadata": {},
   "outputs": [
    {
     "name": "stdout",
     "output_type": "stream",
     "text": [
      "You can open the visualizer by visiting the following URL:\n",
      "http://127.0.0.1:7000/static/\n",
      "ModulesDB({<timor.Module.AtomicModule object at 0x7efda9e8d270>})\n"
     ]
    }
   ],
   "source": [
    "from timor.Geometry import Mesh\n",
    "\n",
    "\n",
    "def create_body_with_stl(name: str, stl_path: str, connector_name: str) -> Body:\n",
    "    \"\"\"\n",
    "    Create a Body object in timor using an STL file for collision and visual geometry.\n",
    "\n",
    "    Args:\n",
    "        name (str): Name of the body.\n",
    "        stl_path (str): Path to the STL file.\n",
    "        connector_name (str): Name of the connector.\n",
    "\n",
    "    Returns:\n",
    "        Body: A Body object with the STL-based geometry.\n",
    "    \"\"\"\n",
    "    # Define the collision and visual geometry using the STL file\n",
    "    stl_geometry = Mesh({\"file\": stl_path})\n",
    "\n",
    "\n",
    "\n",
    "    \n",
    "    # # Create dummy bodies for demonstration\n",
    "    diameter = 80 / 1000  # the diameter of our links [m]\n",
    "    length = 150 / 1000\n",
    "    # Create the body using the STL geometry\n",
    "    body = Body(\n",
    "        body_id=name,\n",
    "        collision=stl_geometry,\n",
    "        connectors=[Connector(f'J2_distal+{name}',\n",
    "                                        Transformation.from_translation([0, 0, length / 2]),\n",
    "                                        gender=Gender.m,\n",
    "                                        connector_type='default',\n",
    "                                        size=[diameter])],\n",
    "        inertia=cylinder_inertia(length, diameter / 2, inner_diameter / 2)  # Optionally specify inertia if available\n",
    "    )\n",
    "\n",
    "    return body\n",
    "\n",
    "length = 150 / 1000\n",
    "# Example usage\n",
    "parent_stl_file_path = \"./assets/Assem_4310_BASE/Assem_4310_BASE/meshes/base_motor_link.STL\"\n",
    "child_stl_file_path = \"./assets/Assem_4310_BASE/Assem_4310_BASE/meshes/base_out_link.STL\"\n",
    "parent = create_body_with_stl(\"base_motor_link\", parent_stl_file_path, \"base_connector\")\n",
    "child = create_body_with_stl(\"base_out_link\", child_stl_file_path, \"out\")\n",
    "\n",
    "\n",
    "joint = Joint(\n",
    "    joint_id='Revolute',\n",
    "    joint_type='revolute',\n",
    "    parent_body=parent,\n",
    "    child_body=child,\n",
    "    q_limits=np.array([-np.pi, np.pi]),\n",
    "    torque_limit=1000,\n",
    "    acceleration_limit=5,\n",
    "    velocity_limit=10,\n",
    "    parent2joint=Transformation.from_translation([0, 0, length / 2]) @ Transformation.from_rotation(rotY(np.pi / 2)[:3, :3]),\n",
    "    joint2child=Transformation.from_translation([0, 0, length / 2])\n",
    ")\n",
    "\n",
    "    \n",
    "# Module header\n",
    "module_header = ModuleHeader(\n",
    "    ID=\"R\",\n",
    "    name=\"RJ\",\n",
    "    date=\"2024-12-04\",\n",
    "    author=[\"Generated by URDF to Timor\"],\n",
    "    email=[\"support@example.com\"],\n",
    "    affiliation=[\"Automated Conversion\"]\n",
    ")\n",
    "\n",
    "# Return as a ModulesDB\n",
    "\n",
    "timor_modules = ModulesDB({AtomicModule(module_header, [parent, child], [joint])})\n",
    "timor_modules.debug_visualization()\n",
    "print(timor_modules)\n"
   ]
  }
 ],
 "metadata": {
  "kernelspec": {
   "display_name": "Python 3 (ipykernel)",
   "language": "python",
   "name": "python3"
  },
  "language_info": {
   "codemirror_mode": {
    "name": "ipython",
    "version": 3
   },
   "file_extension": ".py",
   "mimetype": "text/x-python",
   "name": "python",
   "nbconvert_exporter": "python",
   "pygments_lexer": "ipython3",
   "version": "3.10.15"
  }
 },
 "nbformat": 4,
 "nbformat_minor": 5
}
