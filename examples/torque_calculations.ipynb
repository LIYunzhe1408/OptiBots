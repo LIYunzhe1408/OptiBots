{
 "cells": [
  {
   "cell_type": "markdown",
   "metadata": {},
   "source": [
    "# Perform forward kinematics with a trajectory"
   ]
  },
  {
   "cell_type": "markdown",
   "metadata": {},
   "source": [
    "In this notebook, we are going to generate a short video for a random robot movement you can watch in your browser.\n",
    "\n",
    "First of all, we need some modules. You can create some simple modules built from geometric primitives yourself - there is a distinct tutorial to that purpose. If you don't want to, we can use the set of simple modules provided with the timor source code:"
   ]
  },
  {
   "cell_type": "code",
   "execution_count": 2,
   "metadata": {},
   "outputs": [
    {
     "name": "stderr",
     "output_type": "stream",
     "text": [
      "2025-02-11 14:42:29,658 Timor INFO Loading custom configurations from /home/llama/.config/timor.config\n",
      "2025-02-11 14:42:31,270 Timor INFO Getting robot modrob-gen2.\n",
      "2025-02-11 14:42:31,273 Timor WARNING Could not fetch robot modrob-gen2 due to [Errno 17] File exists: '/home/llama/miniconda3/envs/timor/lib/python3.10/site-packages/cache/robots/modrob-gen2'.\n"
     ]
    }
   ],
   "source": [
    "from pathlib import Path\n",
    "\n",
    "# provide your own filepaths if you already did the module generation tutorial:\n",
    "your_modules_json = Path('')\n",
    "your_assets_directory = Path('')\n",
    "\n",
    "if your_modules_json == Path(''):\n",
    "    from timor.utilities.file_locations import get_module_db_files\n",
    "    modules_file = get_module_db_files('geometric_primitive_modules')"
   ]
  },
  {
   "cell_type": "markdown",
   "metadata": {},
   "source": [
    "Imports here:"
   ]
  },
  {
   "cell_type": "code",
   "execution_count": 3,
   "metadata": {},
   "outputs": [
    {
     "name": "stdout",
     "output_type": "stream",
     "text": [
      "{'Revolute Joint': <timor.Module.AtomicModule object at 0x7fc1521859c0>, 'I shaped link 0.08-0.08-15': <timor.Module.AtomicModule object at 0x7fc1521869e0>, 'L shaped link 0.1-0.08-30': <timor.Module.AtomicModule object at 0x7fc1521f8c70>, 'Base': <timor.Module.AtomicModule object at 0x7fc152187430>, 'L shaped link 0.1-0.08-15': <timor.Module.AtomicModule object at 0x7fc1521f8460>, 'I shaped link 0.08-0.08-30': <timor.Module.AtomicModule object at 0x7fc152187c40>, 'Demo EEF': <timor.Module.AtomicModule object at 0x7fc152187d60>, 'L shaped link 0.1-0.08-45': <timor.Module.AtomicModule object at 0x7fc1521f9480>, 'I shaped link 0.08-0.08-45': <timor.Module.AtomicModule object at 0x7fc152186290>, 'Prismatic Joint': <timor.Module.AtomicModule object at 0x7fc1531e4190>}\n",
      "{'J2': <timor.Module.AtomicModule object at 0x7fc1521859c0>, 'i_15': <timor.Module.AtomicModule object at 0x7fc1521869e0>, 'l_30': <timor.Module.AtomicModule object at 0x7fc1521f8c70>, 'base': <timor.Module.AtomicModule object at 0x7fc152187430>, 'l_15': <timor.Module.AtomicModule object at 0x7fc1521f8460>, 'i_30': <timor.Module.AtomicModule object at 0x7fc152187c40>, 'eef': <timor.Module.AtomicModule object at 0x7fc152187d60>, 'l_45': <timor.Module.AtomicModule object at 0x7fc1521f9480>, 'i_45': <timor.Module.AtomicModule object at 0x7fc152186290>, 'J1': <timor.Module.AtomicModule object at 0x7fc1531e4190>}\n"
     ]
    }
   ],
   "source": [
    "import numpy as np\n",
    "import timor\n",
    "from timor.Module import *\n",
    "from timor.utilities.visualization import animation\n",
    "import matplotlib.pyplot as plt\n",
    "import itertools\n",
    "from mpl_toolkits.mplot3d import Axes3D\n",
    "from tqdm import tqdm\n",
    "\n",
    "\n",
    "#create the DB object\n",
    "db = ModulesDB.from_json_file(modules_file)\n",
    "\n",
    "#print out available modules in DB\n",
    "print(db.by_name)\n",
    "print(db.by_id)\n",
    "# print(db.all_joints)\n",
    "# print(db.all_connectors)\n"
   ]
  },
  {
   "cell_type": "code",
   "execution_count": 4,
   "metadata": {},
   "outputs": [
    {
     "name": "stdout",
     "output_type": "stream",
     "text": [
      "You can open the visualizer by visiting the following URL:\n",
      "http://127.0.0.1:7032/static/\n"
     ]
    },
    {
     "data": {
      "text/html": [
       "\n",
       "            <div style=\"height: 400px; width: 100%; overflow-x: auto; overflow-y: hidden; resize: both\">\n",
       "            <iframe src=\"http://127.0.0.1:7032/static/\" style=\"width: 100%; height: 100%; border: none\"></iframe>\n",
       "            </div>\n",
       "            "
      ],
      "text/plain": [
       "<IPython.core.display.HTML object>"
      ]
     },
     "execution_count": 4,
     "metadata": {},
     "output_type": "execute_result"
    }
   ],
   "source": [
    "#contains IDs we care about. The order is arbitrary, but if we want to make a robot out of this (i.e. kinematic tree) we should put in order.\n",
    "modules = ('base', 'J2', 'i_45', 'J2', 'J2', 'eef')\n",
    "A = ModuleAssembly.from_serial_modules(db, modules)\n",
    "robot = A.to_pin_robot() #convert to pinocchio robot\n",
    "\n",
    "viz = robot.visualize()\n",
    "viz.viewer.jupyter_cell(height=400) # generate a jupyter cell to visualize the robot"
   ]
  },
  {
   "cell_type": "code",
   "execution_count": 5,
   "metadata": {},
   "outputs": [
    {
     "name": "stdout",
     "output_type": "stream",
     "text": [
      "Robot end effector coordinate transform at joint state [ 3.14159265 -1.57079633  1.57079633] [[-0.    1.   -0.    0.5 ]\n",
      " [-0.   -0.   -1.   -0.19]\n",
      " [-1.   -0.    0.    0.8 ]\n",
      " [ 0.    0.    0.    1.  ]]\n",
      "Robot joint coordinate transfom at joint state [ 3.14159265 -1.57079633  1.57079633] ([[ 1.    0.    0.    0.2 ]\n",
      " [-0.    1.    0.   -0.  ]\n",
      " [ 0.   -0.    1.    0.05]\n",
      " [ 0.    0.    0.    1.  ]], [[-0.   0.   1.   0.2]\n",
      " [-1.  -0.  -0.   0. ]\n",
      " [ 0.  -1.   0.   0.8]\n",
      " [ 0.   0.   0.   1. ]], [[-0.   1.  -0.   0.5]\n",
      " [-0.  -0.  -1.   0. ]\n",
      " [-1.  -0.   0.   0.8]\n",
      " [ 0.   0.   0.   1. ]])\n",
      "Robot full frames coordinate transfom at joint state [ 3.14159265 -1.57079633  1.57079633] ([[1. 0. 0. 0.]\n",
      " [0. 1. 0. 0.]\n",
      " [0. 0. 1. 0.]\n",
      " [0. 0. 0. 1.]], [[ 1.  0.  0.  0.]\n",
      " [ 0. -1. -0.  0.]\n",
      " [ 0.  0. -1.  0.]\n",
      " [ 0.  0.  0.  1.]], [[1. 0. 0. 0.]\n",
      " [0. 1. 0. 0.]\n",
      " [0. 0. 1. 0.]\n",
      " [0. 0. 0. 1.]], [[-0.   -0.    1.    0.05]\n",
      " [ 0.   -1.    0.    0.  ]\n",
      " [ 1.    0.    0.    0.05]\n",
      " [ 0.    0.    0.    1.  ]], [[-0.    0.   -1.    0.05]\n",
      " [ 0.    1.    0.    0.  ]\n",
      " [ 1.   -0.   -0.    0.05]\n",
      " [ 0.    0.    0.    1.  ]], [[-0.     0.     1.     0.125]\n",
      " [ 0.    -1.     0.    -0.   ]\n",
      " [ 1.     0.     0.     0.05 ]\n",
      " [ 0.     0.     0.     1.   ]], [[ 1.    0.    0.    0.2 ]\n",
      " [-0.    1.    0.   -0.  ]\n",
      " [ 0.   -0.    1.    0.05]\n",
      " [ 0.    0.    0.    1.  ]], [[ 1.     0.     0.     0.2  ]\n",
      " [-0.     1.     0.     0.   ]\n",
      " [ 0.    -0.     1.     0.125]\n",
      " [ 0.     0.     0.     1.   ]], [[ 1.   0.   0.   0.2]\n",
      " [-0.   1.   0.   0. ]\n",
      " [ 0.  -0.   1.   0.2]\n",
      " [ 0.   0.   0.   1. ]], [[ 1.  -0.  -0.   0.2]\n",
      " [-0.  -1.  -0.   0. ]\n",
      " [ 0.   0.  -1.   0.2]\n",
      " [ 0.   0.   0.   1. ]], [[ 1.     0.     0.     0.2  ]\n",
      " [-0.     1.     0.     0.   ]\n",
      " [ 0.    -0.     1.     0.425]\n",
      " [ 0.     0.     0.     1.   ]], [[ 1.    0.    0.    0.2 ]\n",
      " [-0.    1.    0.    0.  ]\n",
      " [ 0.   -0.    1.    0.65]\n",
      " [ 0.    0.    0.    1.  ]], [[ 1.   -0.   -0.    0.2 ]\n",
      " [-0.   -1.   -0.    0.  ]\n",
      " [ 0.    0.   -1.    0.65]\n",
      " [ 0.    0.    0.    1.  ]], [[ 1.     0.     0.     0.2  ]\n",
      " [-0.     1.     0.     0.   ]\n",
      " [ 0.    -0.     1.     0.725]\n",
      " [ 0.     0.     0.     1.   ]], [[-0.   0.   1.   0.2]\n",
      " [-1.  -0.  -0.   0. ]\n",
      " [ 0.  -1.   0.   0.8]\n",
      " [ 0.   0.   0.   1. ]], [[-0.     0.     1.     0.275]\n",
      " [-1.    -0.    -0.     0.   ]\n",
      " [ 0.    -1.     0.     0.8  ]\n",
      " [ 0.     0.     0.     1.   ]], [[-0.    0.    1.    0.35]\n",
      " [-1.   -0.   -0.    0.  ]\n",
      " [ 0.   -1.    0.    0.8 ]\n",
      " [ 0.    0.    0.    1.  ]], [[-0.    0.   -1.    0.35]\n",
      " [-1.    0.    0.    0.  ]\n",
      " [ 0.    1.    0.    0.8 ]\n",
      " [ 0.    0.    0.    1.  ]], [[-0.     0.     1.     0.425]\n",
      " [-1.    -0.    -0.     0.   ]\n",
      " [ 0.    -1.     0.     0.8  ]\n",
      " [ 0.     0.     0.     1.   ]], [[-0.   1.  -0.   0.5]\n",
      " [-0.  -0.  -1.   0. ]\n",
      " [-1.  -0.   0.   0.8]\n",
      " [ 0.   0.   0.   1. ]], [[-0.     1.    -0.     0.5  ]\n",
      " [-0.    -0.    -1.    -0.075]\n",
      " [-1.    -0.     0.     0.8  ]\n",
      " [ 0.     0.     0.     1.   ]], [[-0.    1.   -0.    0.5 ]\n",
      " [-0.   -0.   -1.   -0.15]\n",
      " [-1.   -0.    0.    0.8 ]\n",
      " [ 0.    0.    0.    1.  ]], [[-0.   -1.    0.    0.5 ]\n",
      " [-0.    0.    1.   -0.15]\n",
      " [-1.    0.   -0.    0.8 ]\n",
      " [ 0.    0.    0.    1.  ]], [[-0.    1.   -0.    0.5 ]\n",
      " [-0.   -0.   -1.   -0.15]\n",
      " [-1.   -0.    0.    0.8 ]\n",
      " [ 0.    0.    0.    1.  ]], [[-0.    1.   -0.    0.5 ]\n",
      " [-0.   -0.   -1.   -0.19]\n",
      " [-1.   -0.    0.    0.8 ]\n",
      " [ 0.    0.    0.    1.  ]])\n",
      "You can open the visualizer by visiting the following URL:\n",
      "http://127.0.0.1:7033/static/\n",
      "Current robot joint positions (configuration): [ 3.14159265 -1.57079633  1.57079633]\n",
      "Current joints: ['J2.Revolute', 'J2-1.Revolute', 'J2-2.Revolute']\n",
      "Current joints parents: {'J2.Revolute': 'universe', 'J2-1.Revolute': 'J2.Revolute', 'J2-2.Revolute': 'J2-1.Revolute'}\n",
      "  f = 0.504162 0.464812 0.319338\n",
      "tau = 0.469702 -0.81928  0.77163\n",
      "\n",
      "Current robot joint velocities: [0. 0. 0.]\n",
      "FD: [1.52529445e+01 6.92470588e+01 9.33973485e-16]\n"
     ]
    }
   ],
   "source": [
    "#arbitrary new joint state\n",
    "q2 = np.array([np.pi, -np.pi/2, np.pi/2])\n",
    "\n",
    "\n",
    "\"\"\"Forwards Kinematics (FK) and Forwards Dynamics (FD) methods belong to PinRobot object\"\"\"\n",
    "  # FK https://timor-python.readthedocs.io/en/latest/autoapi/timor/Robot/index.html#timor.Robot.PinRobot.fk\n",
    "  # FD https://timor-python.readthedocs.io/en/latest/autoapi/timor/Robot/index.html#timor.Robot.PinRobot.fd\n",
    "\n",
    "# FK calculates the relative rigid body transform from the reference config at a given joint angle position. \n",
    "# You can tell it to update the collision hitbox and visual mesh if wanted. I don't think this robot can collide with itself.\n",
    "print(f\"Robot end effector coordinate transform at joint state {q2}\", robot.fk(configuration = q2, collision = True, visual = True)) #default kind is tcp - tool center point\n",
    "print(f\"Robot joint coordinate transfom at joint state {q2}\", robot.fk(configuration = q2, kind = 'joints', collision = True, visual = True))\n",
    "print(f\"Robot full frames coordinate transfom at joint state {q2}\", robot.fk(configuration = q2, kind = 'full', collision = True, visual = True))\n",
    "\n",
    "\n",
    "#visual just updates the state of the visual geometries, we have to actually visualize to see it\n",
    "vis = robot.visualize()\n",
    "\n",
    "#Current robot velocities\n",
    "print(f\"Current robot joint positions (configuration): {robot.configuration}\")\n",
    "print(f\"Current joints: {robot.joints}\")\n",
    "print(f\"Current joints parents: {robot.parents}\")\n",
    "\n",
    "import pinocchio as pin\n",
    "print(pin.Force.Random())\n",
    "\n",
    "\n",
    "print(f\"Current robot joint velocities: {robot.velocities}\")\n",
    "\n",
    "# FD calculates joint accelerations (ddq) given joint config (q) and joint velocity (dq) \n",
    "print(\"FD:\", robot.fd(tau = [1, 0, 0], motor_inertia = False, friction = True))\n",
    "\n",
    "\n"
   ]
  },
  {
   "cell_type": "code",
   "execution_count": 6,
   "metadata": {},
   "outputs": [
    {
     "name": "stdout",
     "output_type": "stream",
     "text": [
      "static:  [-2.85332688e-16 -2.91239776e-01  0.00000000e+00]\n",
      "joint_torques: [-3.70247367e-14 -2.91239776e-01  0.00000000e+00] <class 'numpy.ndarray'>\n",
      "All computed torques are within the allowable limits.\n",
      "feasible? : True\n"
     ]
    }
   ],
   "source": [
    "## attempting to calculate joint torques:\n",
    "\n",
    "def check_feasibility_with_limits(computed_torques: np.ndarray, torque_limits: np.ndarray) -> bool:\n",
    "    \"\"\"\n",
    "    Checks if the computed torques are feasible given the upper and lower allowable torque limits for each joint.\n",
    "\n",
    "    Parameters:\n",
    "        computed_torques (numpy.ndarray): The torques computed by the static_torque function (n_joints x 1).\n",
    "        torque_limits (numpy.ndarray): A 2D array containing the lower and upper limits for each joint's torque.\n",
    "                                       Shape: (n_joints, 2) where each row contains [lower_limit, upper_limit].\n",
    "\n",
    "    Returns:\n",
    "        bool: True if all computed torques are within the allowable limits, False otherwise.\n",
    "    \"\"\"\n",
    "    # Check if the computed torques are within the lower and upper limits for each joint\n",
    "    lower_limits = torque_limits[:, 0]\n",
    "    upper_limits = torque_limits[:, 1]\n",
    "\n",
    "    # Check if all computed torques are within their respective limits\n",
    "    feasible = np.all((computed_torques >= lower_limits) & (computed_torques <= upper_limits))\n",
    "\n",
    "    \n",
    "    if feasible:\n",
    "        print(\"All computed torques are within the allowable limits.\")\n",
    "    else:\n",
    "        # Identify the joints where the torque exceeds the limits\n",
    "        exceeding_joints_lower = np.where(computed_torques < lower_limits)[0]\n",
    "        exceeding_joints_upper = np.where(computed_torques > upper_limits)[0]\n",
    "        \n",
    "        # Print which joints exceed the torque limits\n",
    "        if len(exceeding_joints_lower) > 0:\n",
    "            print(f\"Joints {exceeding_joints_lower} have computed torques below the lower limit.\")\n",
    "        if len(exceeding_joints_upper) > 0:\n",
    "            print(f\"Joints {exceeding_joints_upper} have computed torques above the upper limit.\")\n",
    "    \n",
    "    return feasible\n",
    "\n",
    "\n",
    "print(\"static: \", robot.static_torque(robot.q, f_ext=None))\n",
    "\n",
    "# no external end effector force\n",
    "eef_wrench = np.array([0, 0, 0, 0, 0, 0])  # A downward force of 10 units in the Z direction\n",
    "joint_torques = robot.id(q=None, dq=None, ddq=None, motor_inertia=True, friction=True, eef_wrench=eef_wrench)\n",
    "# print(\"joint_torques:\", joint_torques)\n",
    "\n",
    "# adding a downward end effector force\n",
    "eef_wrench = np.array([-0, -0, -1000, 0, 0, 0])  # A downward force of 10 units in the Z direction\n",
    "proposed_joint_torques = robot.id(q=None, dq=None, ddq=None, motor_inertia=True, friction=True, eef_wrench=eef_wrench)\n",
    "print(\"joint_torques:\", proposed_joint_torques, type(proposed_joint_torques))\n",
    "\n",
    "# Maximum allowable torques for each joint\n",
    "torque_limits = np.array([[-5.0e+06, 5.0e+06],\n",
    "                          [-2.0e+06, 2.0e+06],\n",
    "                          [-1.0e+10, 1.0e+10]])\n",
    "\n",
    "# Check feasibility\n",
    "feasible = check_feasibility_with_limits(proposed_joint_torques, torque_limits)\n",
    "print(\"feasible? :\", feasible==True)"
   ]
  }
 ],
 "metadata": {
  "kernelspec": {
   "display_name": "timor",
   "language": "python",
   "name": "python3"
  },
  "language_info": {
   "codemirror_mode": {
    "name": "ipython",
    "version": 3
   },
   "file_extension": ".py",
   "mimetype": "text/x-python",
   "name": "python",
   "nbconvert_exporter": "python",
   "pygments_lexer": "ipython3",
   "version": "3.10.15"
  }
 },
 "nbformat": 4,
 "nbformat_minor": 2
}
