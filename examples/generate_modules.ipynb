{
 "cells": [
  {
   "cell_type": "markdown",
   "id": "58b9e158-5764-462a-9f6c-357fb5cc6449",
   "metadata": {},
   "source": [
    "# Generate a Set of Modules\n",
    "\n",
    "This notebook is adapted from https://github.com/JonathanKuelz/timor-python/blob/main/tutorials/create_some_modules.ipynb"
   ]
  },
  {
   "cell_type": "code",
   "execution_count": 1,
   "id": "60d6ec14-48fa-4ff7-96c9-ffa9e3c0745b",
   "metadata": {},
   "outputs": [
    {
     "name": "stderr",
     "output_type": "stream",
     "text": [
      "2024-12-03 20:51:00,481 Timor INFO Loading custom configurations from /home/mscsim/.config/timor.config\n",
      "2024-12-03 20:51:01,2 Timor INFO Getting robot modrob-gen2.\n",
      "2024-12-03 20:51:01,4 Timor WARNING Could not fetch robot modrob-gen2 due to [Errno 17] File exists: '/home/mscsim/anaconda3/envs/timor-env/lib/python3.10/site-packages/cache/robots/modrob-gen2'.\n"
     ]
    }
   ],
   "source": [
    "from datetime import datetime\n",
    "from pathlib import Path\n",
    "\n",
    "import numpy as np #numpy\n",
    "import pinocchio as pin #physics solver\n",
    "\n",
    "#important imports\n",
    "from timor.Bodies import Body, Connector, Gender\n",
    "from timor.Joints import Joint\n",
    "from timor.Module import AtomicModule, ModulesDB, ModuleHeader\n",
    "from timor.Geometry import Box, ComposedGeometry, Cylinder, Sphere\n",
    "from timor.utilities.transformation import Transformation\n",
    "from timor.utilities.spatial import rotX, rotY, rotZ"
   ]
  },
  {
   "cell_type": "code",
   "execution_count": 2,
   "id": "1782a817-c811-463a-a229-171318ca791f",
   "metadata": {},
   "outputs": [],
   "source": [
    "# Let's define some principle parameters\n",
    "density = 1200  # kg / m3 estimated overall material density\n",
    "diameter = 80 / 1000  # the diameter of our links [m]\n",
    "inner_diameter = 60 / 1000  # assume the links are hollow, with 5cm thick walls\n",
    "sizes = (150 / 1000, 300 / 1000, 450 / 1000)  # we are going to build links in various lengths (sizes) [m]\n",
    "\n",
    "date = datetime(2022, 9, 15)\n",
    "\n",
    "ROT_X = Transformation.from_rotation(rotX(np.pi)[:3, :3])  # A shortcut we are going to use frequently\n",
    "ROT_Y = Transformation.from_rotation(rotY(np.pi / 2)[:3, :3])\n"
   ]
  },
  {
   "cell_type": "markdown",
   "id": "c8a33a09",
   "metadata": {},
   "source": [
    "# Components\n",
    "\n",
    "We define some examples of components here:\n",
    "\n",
    "* Bodies - rigid body (can have different geometries) \n",
    "* Joints - connect rigid bodies within modules \n",
    "* Connectors - connect modules together. attached to rigid bodies."
   ]
  },
  {
   "cell_type": "code",
   "execution_count": 3,
   "id": "08921f80",
   "metadata": {},
   "outputs": [
    {
     "name": "stdout",
     "output_type": "stream",
     "text": [
      "ConnectorSet({<timor.Bodies.Connector object at 0x7fe6195e81c0>, <timor.Bodies.Connector object at 0x7fe6195ff5b0>}) ConnectorSet({<timor.Bodies.Connector object at 0x7fe6195ff490>, <timor.Bodies.Connector object at 0x7fe6195ff610>})\n"
     ]
    }
   ],
   "source": [
    "# utility functions for calculating the mass and inertia of a cylinder. \n",
    "# We can define such helper methods for other geometries as we wish.\n",
    "\n",
    "def cylinder_mass(l: float, r: float, r_inner: float = 0) -> float:\n",
    "    \"\"\"Calculates the mass of a (hollow) cylinder\"\"\"\n",
    "    mass = density * (l * np.pi * r ** 2) #mass = mass/volume * volume\n",
    "    hollow_mass = density * l * np.pi * r_inner ** 2 #mass = mass/volume * volume\n",
    "    return mass - hollow_mass # we have a hollow cylinder, so subtract hole from whole\n",
    "\n",
    "\n",
    "def cylinder_inertia(l: float, r: float, r_inner: float = 0) -> pin.Inertia:\n",
    "    \"\"\"Calculates the inertia of a (hollow) cylinder, assuming a centered coordinate system\"\"\"\n",
    "    mass = cylinder_mass(l, r, r_inner)\n",
    "    lever = np.asarray([0, 0, 0])\n",
    "    I = np.zeros((3, 3))\n",
    "    I[0, 0] = (1 / 12) * mass * (3 * (r_inner ** 2 + r ** 2) + l ** 2)\n",
    "    I[1, 1] = I[0, 0]\n",
    "    I[2, 2] = .5 * mass * (r_inner ** 2 + r ** 2)\n",
    "\n",
    "    return pin.Inertia(mass, lever, I)\n",
    "\n",
    "\n",
    "\n",
    "# Geometry clasess define a shape - https://timor-python.readthedocs.io/en/latest/autoapi/timor/Geometry/index.html\n",
    "geometry1 = Cylinder({'r': diameter / 2, 'z': sizes[0]},\n",
    "                    pose=Transformation.from_translation([0, 0, 0])) # cylinder1 along the z-axis\n",
    "geometry2 = Cylinder({'r': diameter / 2, 'z': sizes[1]}, \n",
    "                    pose=Transformation.from_translation([0, 0, 0])) # cylinder2 along the z-axis\n",
    "\n",
    "\n",
    "# Create a connector - https://timor-python.readthedocs.io/en/latest/autoapi/timor/Bodies/index.html#timor.Bodies.Connector\n",
    "geo1_connector1 = Connector( connector_id = \"geo1_connector_1\", #create a unique id for connector\n",
    "                    body2connector = Transformation.from_translation([0, 0, sizes[0] / 2]), #the transformation from the parent body's frame to this connector's frame. defaults to g = identity matrix\n",
    "                    parent = None, #the parent body for this connector. will be assigned later if attached to body later\n",
    "                    gender=Gender.f, #Gender.f, Gender.m, or Gender.h. Defaults to hermaphroditic\n",
    "                    connector_type='default', #defines the type of connector. optional\n",
    "                    size=[diameter]) #defines the \"size\" of the connector. completely optional\n",
    "\n",
    "geo1_connector2 = Connector( connector_id = \"geo1_connector_2\", #create a unique id for connector\n",
    "                    body2connector = ROT_X @ Transformation.from_translation([0, 0, sizes[0] / 2]), #the transformation from the parent body's frame to this connector's frame. defaults to g = identity matrix\n",
    "                    parent = None, #the parent body for this connector. will be assigned later if attached to body later\n",
    "                    gender=Gender.m, #Gender.f, Gender.m, or Gender.h. Defaults to hermaphroditic\n",
    "                    connector_type='default', #defines the type of connector. optional\n",
    "                    size=[diameter]) #defines the \"size\" of the connector. completely optional\n",
    "\n",
    "geo2_connector1 = Connector( connector_id = \"geo2_connector_1\", #create a unique id for connector\n",
    "                    body2connector = Transformation.from_translation([0, 0, sizes[1] / 2]), #the transformation from the parent body's frame to this connector's frame. defaults to g = identity matrix\n",
    "                    parent = None, #the parent body for this connector. will be assigned later if attached to body later\n",
    "                    gender=Gender.f, #Gender.f, Gender.m, or Gender.h. Defaults to hermaphroditic\n",
    "                    connector_type='default', #defines the type of connector. optional\n",
    "                    size=[diameter]) #defines the \"size\" of the connector. completely optional\n",
    "\n",
    "geo2_connector2 = Connector( connector_id = \"geo2_connector_2\", #create a unique id for connector\n",
    "                    body2connector = ROT_X @ Transformation.from_translation([0, 0, sizes[1] / 2]), #the transformation from the parent body's frame to this connector's frame. defaults to g = identity matrix\n",
    "                    parent = None, #the parent body for this connector. will be assigned later if attached to body later\n",
    "                    gender=Gender.m, #Gender.f, Gender.m, or Gender.h. Defaults to hermaphroditic\n",
    "                    connector_type='default', #defines the type of connector. optional\n",
    "                    size=[diameter]) #defines the \"size\" of the connector. completely optional\n",
    "\n",
    "\n",
    "\n",
    "# Create a body for each cylinder - https://timor-python.readthedocs.io/en/latest/autoapi/timor/Bodies/index.html\n",
    "# Each cylinder has two connectors, one at each end of the cylinder\n",
    "body1 = Body(body_id = \"test_body_1\", #create a unique id for this component\n",
    "            collision = geometry1, #the collision hitbox uses a Geometry instance\n",
    "            visual = geometry1, #specifies the Geometry to use for visualizing. Will default to collision.\n",
    "            connectors = [geo1_connector1, geo1_connector2], #defines what connectors are on this body\n",
    "            inertia = cylinder_inertia(sizes[0], diameter / 2, inner_diameter / 2), #define the inertia (pinocchio object)\n",
    "            in_module = None #define what module this body is in. updated automatically if body is added to module later \n",
    "            )\n",
    "\n",
    "body2 = Body(body_id = \"test_body_2\", #create a unique id for this component\n",
    "            collision = geometry2, #the collision hitbox uses a Geometry instance\n",
    "            visual = geometry2, #specifies the Geometry to use for visualizing. Will default to collision.\n",
    "            connectors = [geo2_connector1, geo2_connector2], #defines what connectors are on this body\n",
    "            inertia = cylinder_inertia(sizes[1], diameter / 2, inner_diameter / 2), #define the inertia (pinocchio object)\n",
    "            in_module = None #define what module this body is in. updated automatically if body is added to module later \n",
    "            )\n",
    "\n",
    "joint = Joint(joint_id = \"joint_1\", #create a unique id for this component\n",
    "            parent_body = body1, #every joint links a parent body to a child body\n",
    "            child_body = body2, #every joint links a parent body to a child body\n",
    "            in_module = None,\n",
    "            q_limits = (-np.pi, np.pi), #the numerical range for this joint\n",
    "            torque_limit= np.inf,\n",
    "            velocity_limit = np.inf,\n",
    "            acceleration_limit = np.inf,\n",
    "            parent2joint = Transformation.neutral(), #transformation between base frame of parent link and this joint \n",
    "            joint2child = ROT_Y @ Transformation.from_translation([0, 0, sizes[1] / 2]), #transformation between this joint and child link\n",
    "            joint_type = \"revolute\"\n",
    "            )\n",
    "\n",
    "print(body1.connectors, body2.connectors)\n",
    "\n",
    "\n",
    "\n"
   ]
  },
  {
   "cell_type": "markdown",
   "id": "b7efef98-ad47-4abf-b664-1a0a7f3a1b5a",
   "metadata": {},
   "source": [
    "## Creating a module\n",
    "\n",
    "Modules are composed of the basic components - bodies, joints, and connectors. \n",
    "\n",
    "As an example, we start with L-shaped links. These are 2 hollow cylinders connected by a joint.\n",
    "\n",
    "When creating a module, make sure:\n",
    "* It has a unique ID within the module set\n",
    "* Each body in the module (here, it's only one body per module) has a unique ID\n",
    "* Each connector in the module has a unique ID\n",
    "* The connector orientations follow the Timor definition. (Their z-axes are pointing away from the module) "
   ]
  },
  {
   "cell_type": "code",
   "execution_count": 4,
   "id": "da31e55f-78af-4299-99d3-c76000e945bf",
   "metadata": {},
   "outputs": [
    {
     "name": "stdout",
     "output_type": "stream",
     "text": [
      "{('T-link', 'test_body_2', 'geo2_connector_1'): <timor.Bodies.Connector object at 0x7fe6195ff490>, ('T-link', 'test_body_2', 'geo2_connector_2'): <timor.Bodies.Connector object at 0x7fe6195ff610>, ('T-link', 'test_body_1', 'geo1_connector_2'): <timor.Bodies.Connector object at 0x7fe6195e81c0>, ('T-link', 'test_body_1', 'geo1_connector_1'): <timor.Bodies.Connector object at 0x7fe6195ff5b0>}\n"
     ]
    }
   ],
   "source": [
    "#create a module\n",
    "\n",
    "module_header = ModuleHeader(ID='T-link',\n",
    "                                name='T Link Module',\n",
    "                                date=date,\n",
    "                                author=['Calix Tang'],\n",
    "                                email=['calix@berkeley.edu'],\n",
    "                                affiliation=['UC Berkeley']\n",
    "                                )\n",
    "\n",
    "# https://timor-python.readthedocs.io/en/latest/autoapi/timor/Module/index.html\n",
    "t_link_module = AtomicModule(module_header, #module header definition\n",
    "                            bodies = (body1, body2), #add all bodies\n",
    "                            joints = [joint] #add all joints\n",
    "                            )\n",
    "\n",
    "print(t_link_module.available_connectors)"
   ]
  },
  {
   "cell_type": "code",
   "execution_count": 5,
   "id": "cfd22fd3",
   "metadata": {},
   "outputs": [
    {
     "name": "stdout",
     "output_type": "stream",
     "text": [
      "You can open the visualizer by visiting the following URL:\n",
      "http://127.0.0.1:7001/static/\n"
     ]
    },
    {
     "data": {
      "text/plain": [
       "<pinocchio.visualize.meshcat_visualizer.MeshcatVisualizer at 0x7fe6195e86a0>"
      ]
     },
     "execution_count": 5,
     "metadata": {},
     "output_type": "execute_result"
    }
   ],
   "source": [
    "#Create a ModulesDB - a collection of unique modules. For now, we only have 1.\n",
    "db = ModulesDB([t_link_module])\n",
    "db.debug_visualization()"
   ]
  },
  {
   "cell_type": "markdown",
   "id": "97bf37d1-3c7d-4892-83a2-2175d22b3026",
   "metadata": {},
   "source": [
    "For the **base** and the **end effector** we are going with an easy simplification: The base will just be a box, the end-effector is abstracted as a small sphere, so we can visually identify it's position in visualizations."
   ]
  },
  {
   "cell_type": "code",
   "execution_count": 6,
   "id": "1bbe8673-656f-4d49-b0ff-6e27bb094fb0",
   "metadata": {},
   "outputs": [],
   "source": [
    "def base() -> ModulesDB:\n",
    "    \"\"\"Creates a base connector attached to a box.\"\"\"\n",
    "    l = .1\n",
    "    geometry = Box({'x': l, 'y': l, 'z': l}, pose=Transformation.from_translation([0, 0, l / 2]))\n",
    "    c_world = Connector('base', ROT_X, gender=Gender.f, connector_type='base', size=[diameter])\n",
    "    c_robot = Connector('base2robot', gender=Gender.m, connector_type='default', size=[diameter],\n",
    "                        body2connector=Transformation.from_translation([l / 2, 0, l / 2]) @ rotY(np.pi / 2) @ rotZ(np.pi))\n",
    "    return ModulesDB({\n",
    "        AtomicModule(ModuleHeader(ID='base', name='Base', author=['Jonathan Külz'], date=date,\n",
    "                                  email=['jonathan.kuelz@tum.de'], affiliation=['Technical University of Munich']),\n",
    "                     [Body('base', collision=geometry, connectors=[c_world, c_robot])])\n",
    "    })\n",
    "\n",
    "\n",
    "def eef() -> ModulesDB:\n",
    "    \"\"\"Creates a simplified end effector module.\"\"\"\n",
    "    geometry = Sphere({'r': diameter / 5}, pose=Transformation.from_translation([0, 0, diameter / 2]))\n",
    "    c_robot = Connector('robot2eef', ROT_X, gender=Gender.f, connector_type='default', size=[diameter])\n",
    "    c_world = Connector('end-effector', gender=Gender.m, connector_type='eef',\n",
    "                        body2connector=Transformation.from_translation([0, 0, diameter / 2]))\n",
    "    return ModulesDB({\n",
    "        AtomicModule(ModuleHeader(ID='eef', name='Demo EEF', author=['Jonathan Külz'], date=date,\n",
    "                                  email=['jonathan.kuelz@tum.de'], affiliation=['Technical University of Munich']),\n",
    "                     [Body('EEF', collision=geometry, connectors=[c_robot, c_world])])\n",
    "    })"
   ]
  },
  {
   "cell_type": "markdown",
   "id": "33a8aa35-c92b-4be8-8ab9-922006438c93",
   "metadata": {},
   "source": [
    "## Last but not least: Build some Joints\n",
    "\n",
    "We are going to define two joints:\n",
    "\n",
    "    1. A linear joint which is abstracted by two cylinders of different radius moving relative to each other along their longitudal axis\n",
    "    2. A prismatic/revolute joint, shaped like one of the L-shaped links but with a relative movement between the two cylinders"
   ]
  },
  {
   "cell_type": "code",
   "execution_count": 7,
   "id": "1f98c8f5-1dc1-42d8-b000-5cdb0d474ba9",
   "metadata": {},
   "outputs": [],
   "source": [
    "def linear_joint() -> ModulesDB:\n",
    "    \"\"\"Creates an I-shaped prismatic joint\"\"\"\n",
    "    part_length = 100 / 1000\n",
    "    joint_limit = .6 * part_length\n",
    "    proximal = Body('J1_proximal', collision=Cylinder({'r': diameter / 2, 'z': part_length}),\n",
    "                    connectors=[Connector('J1_proximal',\n",
    "                                          ROT_X @ Transformation.from_translation([0, 0, part_length / 2]),\n",
    "                                          gender=Gender.f,\n",
    "                                          connector_type='default',\n",
    "                                          size=[diameter])],\n",
    "                    inertia=cylinder_inertia(part_length, diameter / 2, inner_diameter / 2)\n",
    "                    )\n",
    "    distal = Body('J1_distal', collision=Cylinder({'r': 0.8 * diameter / 2, 'z': part_length + joint_limit}),\n",
    "                  connectors=[Connector('J1_distal',\n",
    "                                        Transformation.from_translation([0, 0, (part_length + joint_limit) / 2]),\n",
    "                                        gender=Gender.m,\n",
    "                                        connector_type='default',\n",
    "                                        size=[diameter])],\n",
    "                  inertia=cylinder_inertia(part_length * 2, .8 * diameter / 2, .8 * inner_diameter / 2)\n",
    "                  )\n",
    "    joint = Joint(\n",
    "        joint_id='Prismatic',\n",
    "        joint_type='prismatic',\n",
    "        parent_body=proximal,\n",
    "        child_body=distal,\n",
    "        q_limits=[0, joint_limit],\n",
    "        parent2joint=Transformation.from_translation([0, 0, part_length / 2]),  # Here we define where the movement axis of the joint is placed\n",
    "        joint2child=Transformation.from_translation([0, 0, (part_length - joint_limit) / 2])  # Here we define where the movement axis of the joint is placed\n",
    "    )\n",
    "\n",
    "    module_header = ModuleHeader(ID='J1',\n",
    "                                 name='Prismatic Joint',\n",
    "                                 date=date,\n",
    "                                 author=['Jonathan Külz'],\n",
    "                                 email=['jonathan.kuelz@tum.de'],\n",
    "                                 affiliation=['Technical University of Munich']\n",
    "                                 )\n",
    "    return ModulesDB({\n",
    "        AtomicModule(module_header, [proximal, distal], [joint])\n",
    "    })"
   ]
  },
  {
   "cell_type": "code",
   "execution_count": 8,
   "id": "a5b1491f-2315-4f14-8823-21fb78d2ea9a",
   "metadata": {},
   "outputs": [],
   "source": [
    "def revolute_joint() -> ModulesDB:\n",
    "    \"\"\"Creates an L-shaped joint\"\"\"\n",
    "    length = 150 / 1000\n",
    "    proximal_body = ComposedGeometry((Cylinder({'r': diameter / 2, 'z': length}),\n",
    "                                      Sphere({'r': diameter / 2}, pose=Transformation.from_translation([0, 0, length / 2])))\n",
    "                                     )\n",
    "    proximal = Body('J2_proximal', collision=proximal_body,\n",
    "                    connectors=[Connector('J2_proximal',\n",
    "                                          ROT_X @ Transformation.from_translation([0, 0, length / 2]),\n",
    "                                          gender=Gender.f,\n",
    "                                          connector_type='default',\n",
    "                                          size=[diameter])],\n",
    "                    inertia=cylinder_inertia(length, diameter / 2, inner_diameter / 2)\n",
    "                    )\n",
    "    distal = Body('J2_distal', collision=Cylinder({'r': diameter / 2, 'z': 150 / 1000}),\n",
    "                  connectors=[Connector('J2_distal',\n",
    "                                        Transformation.from_translation([0, 0, length / 2]),\n",
    "                                        gender=Gender.m,\n",
    "                                        connector_type='default',\n",
    "                                        size=[diameter])],\n",
    "                  inertia=cylinder_inertia(length, diameter / 2, inner_diameter / 2)\n",
    "                  )\n",
    "    joint = Joint(\n",
    "        joint_id='Revolute',\n",
    "        joint_type='revolute',\n",
    "        parent_body=proximal,\n",
    "        child_body=distal,\n",
    "        q_limits=np.array([-np.pi, np.pi]),\n",
    "        torque_limit=1000,\n",
    "        acceleration_limit=5,\n",
    "        velocity_limit=10,\n",
    "        parent2joint=Transformation.from_translation([0, 0, length / 2]) @ Transformation.from_rotation(rotY(np.pi / 2)[:3, :3]),\n",
    "        joint2child=Transformation.from_translation([0, 0, length / 2])\n",
    "    )\n",
    "\n",
    "    module_header = ModuleHeader(ID='J2',\n",
    "                                 name='Revolute Joint',\n",
    "                                 date=date,\n",
    "                                 author=['Jonathan Külz'],\n",
    "                                 email=['jonathan.kuelz@tum.de'],\n",
    "                                 affiliation=['Technical University of Munich']\n",
    "                                 )\n",
    "    return ModulesDB({\n",
    "        AtomicModule(module_header, [proximal, distal], [joint])\n",
    "    })"
   ]
  },
  {
   "cell_type": "markdown",
   "id": "e771908f-b726-4763-b068-7ef918611d3d",
   "metadata": {},
   "source": [
    "## It's done: Now let's see the modules\n",
    "\n",
    "We are combining all modules defined to a common database.\n",
    "\n",
    "Timor offers some visualization capabilities for debugging created databases. It shows the modules, but also all important reference frames defined - take a look, change some parameters and inspect how the visualized modules behave."
   ]
  },
  {
   "cell_type": "code",
   "execution_count": 10,
   "id": "dc48c049-c1b7-4ec3-ade2-b34231987a30",
   "metadata": {},
   "outputs": [
    {
     "name": "stdout",
     "output_type": "stream",
     "text": [
      "You can open the visualizer by visiting the following URL:\n",
      "http://127.0.0.1:7002/static/\n"
     ]
    },
    {
     "data": {
      "text/plain": [
       "<pinocchio.visualize.meshcat_visualizer.MeshcatVisualizer at 0x7fe613f2b5e0>"
      ]
     },
     "execution_count": 10,
     "metadata": {},
     "output_type": "execute_result"
    }
   ],
   "source": [
    "db = revolute_joint()\n",
    "db.debug_visualization()"
   ]
  }
 ],
 "metadata": {
  "kernelspec": {
   "display_name": "timor-env",
   "language": "python",
   "name": "python3"
  },
  "language_info": {
   "codemirror_mode": {
    "name": "ipython",
    "version": 3
   },
   "file_extension": ".py",
   "mimetype": "text/x-python",
   "name": "python",
   "nbconvert_exporter": "python",
   "pygments_lexer": "ipython3",
   "version": "3.10.15"
  }
 },
 "nbformat": 4,
 "nbformat_minor": 5
}
