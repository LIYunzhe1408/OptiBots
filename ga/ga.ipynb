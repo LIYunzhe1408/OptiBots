{
 "cells": [
  {
   "cell_type": "code",
   "execution_count": 1,
   "metadata": {},
   "outputs": [
    {
     "name": "stderr",
     "output_type": "stream",
     "text": [
      "2025-02-21 15:10:38,447 Timor INFO Loading custom configurations from /home/mscsim/.config/timor.config\n",
      "2025-02-21 15:10:38,984 Timor INFO Getting robot modrob-gen2.\n",
      "2025-02-21 15:10:38,986 Timor WARNING Could not fetch robot modrob-gen2 due to [Errno 17] File exists: '/home/mscsim/anaconda3/envs/timor-env/lib/python3.10/site-packages/cache/robots/modrob-gen2'.\n"
     ]
    }
   ],
   "source": [
    "import numpy as np\n",
    "import timor\n",
    "import argparse\n",
    "import pygad\n",
    "import os\n",
    "from util import *\n",
    "from timor.Module import *\n",
    "from timor.utilities.visualization import animation\n",
    "# import matplotlib.pyplot as plt\n",
    "# import itertools\n",
    "# from mpl_toolkits.mplot3d import Axes3D\n",
    "from tqdm import tqdm\n",
    "from timor import ModuleAssembly, ModulesDB\n",
    "from timor.Bodies import Body, Connector, Gender\n",
    "from timor.configuration_search.GA import GA\n",
    "from timor.utilities.visualization import MeshcatVisualizer, clear_visualizer\n",
    "from timor.utilities.dtypes import Lexicographic\n",
    "from timor.utilities.transformation import Transformation\n",
    "from timor.utilities.spatial import rotX, rotY, rotZ\n",
    "from timor.Module import AtomicModule, ModulesDB, ModuleHeader\n",
    "from timor.Joints import Joint\n",
    "from timor.Geometry import Box, ComposedGeometry, Cylinder, Sphere, Mesh\n",
    "\n",
    "from reachability import Reachability\n",
    "from generate_module import create_i_links, create_eef, create_revolute_joint"
   ]
  },
  {
   "cell_type": "code",
   "execution_count": 2,
   "metadata": {},
   "outputs": [],
   "source": [
    "how_many_times_to_split_angle_range = 30\n",
    "world_resolution = 0.01\n",
    "world_dimension = [1.00, 1.00, 1.00]\n",
    "num_threads = 5\n",
    "our_hyperparameters = {\n",
    "    'population_size': 10,\n",
    "    'num_generations': 50,\n",
    "    'num_genes': 6,\n",
    "    'save_solutions_dir': None\n",
    "}"
   ]
  },
  {
   "cell_type": "code",
   "execution_count": 3,
   "metadata": {},
   "outputs": [
    {
     "name": "stdout",
     "output_type": "stream",
     "text": [
      "You can open the visualizer by visiting the following URL:\n",
      "http://127.0.0.1:7000/static/\n"
     ]
    }
   ],
   "source": [
    "r_4310_base = create_revolute_joint(\"assets/Assem_4310_BASE/Assem_4310_BASE/urdf/Assem_4310_BASE.urdf\")\n",
    "r_4305_joint = create_revolute_joint(\"assets/Assem_4305_JOINT/Assem_4305_JOINT/urdf/Assem_4305_JOINT.urdf\")\n",
    "r_4310_joint = create_revolute_joint(\"assets/Assem_4310_JOINT/Assem_4310_JOINT/urdf/Assem_4310_JOINT.urdf\")\n",
    "\n",
    "# Links\n",
    "\n",
    "baseto4310_links = create_i_links(rod_name=\"baseto4310\")\n",
    "r4310to4305_links = create_i_links(rod_name=\"r4310to4305\")\n",
    "r4310to4310_links = create_i_links(rod_name=\"r4310to4310\")\n",
    "\n",
    "# eef = create_eef()\n",
    "\n",
    "# Create database\n",
    "db = ModulesDB()\n",
    "db.add(r_4310_joint)\n",
    "db.add(r_4310_base)\n",
    "db.add(r_4305_joint)\n",
    "db = db.union(baseto4310_links)\n",
    "db = db.union(r4310to4305_links)\n",
    "db = db.union(r4310to4310_links)\n",
    "# db = db.union(eef)\n",
    "viz = db.debug_visualization()"
   ]
  },
  {
   "cell_type": "code",
   "execution_count": 4,
   "metadata": {},
   "outputs": [
    {
     "name": "stdout",
     "output_type": "stream",
     "text": [
      "False\n",
      "You can open the visualizer by visiting the following URL:\n",
      "http://127.0.0.1:7001/static/\n"
     ]
    }
   ],
   "source": [
    "modules = ('base_rev_joint','baseto4310-0.3','motor4310_rev_joint')\n",
    "B = ModuleAssembly.from_serial_modules(db, modules)\n",
    "robot = B.to_pin_robot()\n",
    "print(robot.has_self_collision())\n",
    "viz = robot.visualize()"
   ]
  },
  {
   "cell_type": "code",
   "execution_count": null,
   "metadata": {},
   "outputs": [],
   "source": []
  }
 ],
 "metadata": {
  "kernelspec": {
   "display_name": "timor-env",
   "language": "python",
   "name": "python3"
  },
  "language_info": {
   "codemirror_mode": {
    "name": "ipython",
    "version": 3
   },
   "file_extension": ".py",
   "mimetype": "text/x-python",
   "name": "python",
   "nbconvert_exporter": "python",
   "pygments_lexer": "ipython3",
   "version": "3.10.16"
  }
 },
 "nbformat": 4,
 "nbformat_minor": 2
}
