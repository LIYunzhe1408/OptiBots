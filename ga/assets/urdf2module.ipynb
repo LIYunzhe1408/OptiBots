{
 "cells": [
  {
   "cell_type": "code",
   "execution_count": 1,
   "metadata": {},
   "outputs": [
    {
     "name": "stderr",
     "output_type": "stream",
     "text": [
      "2024-12-01 00:04:58,366 Timor INFO Loading custom configurations from /home/mscsim/.config/timor.config\n",
      "2024-12-01 00:04:58,898 Timor INFO Getting robot modrob-gen2.\n",
      "2024-12-01 00:04:58,900 Timor WARNING Could not fetch robot modrob-gen2 due to [Errno 17] File exists: '/home/mscsim/anaconda3/envs/timor-env/lib/python3.10/site-packages/cache/robots/modrob-gen2'.\n"
     ]
    }
   ],
   "source": [
    "import numpy as np\n",
    "import timor\n",
    "from timor.Module import *\n",
    "from timor.utilities.visualization import animation\n",
    "import matplotlib.pyplot as plt\n",
    "import itertools\n",
    "from mpl_toolkits.mplot3d import Axes3D\n",
    "from tqdm import tqdm"
   ]
  },
  {
   "cell_type": "code",
   "execution_count": 2,
   "metadata": {},
   "outputs": [
    {
     "name": "stdout",
     "output_type": "stream",
     "text": [
      "Current working directory: /home/mscsim/MobileManipulation/TimorExamples/urdf2module/assets\n"
     ]
    },
    {
     "name": "stderr",
     "output_type": "stream",
     "text": [
      "Error:   File assets/Assem_4305_JOINT/Assem_4305_JOINT/urdf/Assem_4305_JOINT.urdf does not exist\n",
      "         at line 55 in /src/urdfdom/urdf_parser/src/model.cpp\n"
     ]
    },
    {
     "ename": "ValueError",
     "evalue": "The file assets/Assem_4305_JOINT/Assem_4305_JOINT/urdf/Assem_4305_JOINT.urdf does not contain a valid URDF model.",
     "output_type": "error",
     "traceback": [
      "\u001b[0;31m---------------------------------------------------------------------------\u001b[0m",
      "\u001b[0;31mValueError\u001b[0m                                Traceback (most recent call last)",
      "Cell \u001b[0;32mIn[2], line 4\u001b[0m\n\u001b[1;32m      2\u001b[0m \u001b[38;5;28;01mimport\u001b[39;00m \u001b[38;5;21;01mos\u001b[39;00m\n\u001b[1;32m      3\u001b[0m \u001b[38;5;28mprint\u001b[39m(\u001b[38;5;124m\"\u001b[39m\u001b[38;5;124mCurrent working directory:\u001b[39m\u001b[38;5;124m\"\u001b[39m, os\u001b[38;5;241m.\u001b[39mgetcwd())\n\u001b[0;32m----> 4\u001b[0m robot \u001b[38;5;241m=\u001b[39m \u001b[43mPinRobot\u001b[49m\u001b[38;5;241;43m.\u001b[39;49m\u001b[43mfrom_urdf\u001b[49m\u001b[43m(\u001b[49m\u001b[43mPath\u001b[49m\u001b[43m(\u001b[49m\u001b[38;5;124;43m\"\u001b[39;49m\u001b[38;5;124;43massets/Assem_4305_JOINT/Assem_4305_JOINT/urdf/Assem_4305_JOINT.urdf\u001b[39;49m\u001b[38;5;124;43m\"\u001b[39;49m\u001b[43m)\u001b[49m\u001b[43m,\u001b[49m\u001b[43m \u001b[49m\u001b[43mPath\u001b[49m\u001b[43m(\u001b[49m\u001b[38;5;124;43m\"\u001b[39;49m\u001b[38;5;124;43m\"\u001b[39;49m\u001b[43m)\u001b[49m\u001b[43m)\u001b[49m\n\u001b[1;32m      5\u001b[0m viz \u001b[38;5;241m=\u001b[39m robot\u001b[38;5;241m.\u001b[39mvisualize()\n\u001b[1;32m      6\u001b[0m viz\u001b[38;5;241m.\u001b[39mviewer\u001b[38;5;241m.\u001b[39mjupyter_cell(height\u001b[38;5;241m=\u001b[39m\u001b[38;5;241m400\u001b[39m)\n",
      "File \u001b[0;32m~/anaconda3/envs/timor-env/lib/python3.10/site-packages/timor/Robot.py:655\u001b[0m, in \u001b[0;36mPinRobot.from_urdf\u001b[0;34m(cls, urdf_file, package_dir, **kwargs)\u001b[0m\n\u001b[1;32m    652\u001b[0m \u001b[38;5;129m@classmethod\u001b[39m\n\u001b[1;32m    653\u001b[0m \u001b[38;5;28;01mdef\u001b[39;00m \u001b[38;5;21mfrom_urdf\u001b[39m(\u001b[38;5;28mcls\u001b[39m, urdf_file: Path, package_dir: Path, \u001b[38;5;241m*\u001b[39m\u001b[38;5;241m*\u001b[39mkwargs) \u001b[38;5;241m-\u001b[39m\u001b[38;5;241m>\u001b[39m PinRobot:\n\u001b[1;32m    654\u001b[0m \u001b[38;5;250m    \u001b[39m\u001b[38;5;124;03m\"\"\"Utility wrapper to load information about a robot from URDF and build the according PinRobot.\"\"\"\u001b[39;00m\n\u001b[0;32m--> 655\u001b[0m     wrapper \u001b[38;5;241m=\u001b[39m \u001b[43mpin\u001b[49m\u001b[38;5;241;43m.\u001b[39;49m\u001b[43mRobotWrapper\u001b[49m\u001b[38;5;241;43m.\u001b[39;49m\u001b[43mBuildFromURDF\u001b[49m\u001b[43m(\u001b[49m\u001b[38;5;28;43mstr\u001b[39;49m\u001b[43m(\u001b[49m\u001b[43murdf_file\u001b[49m\u001b[43m)\u001b[49m\u001b[43m,\u001b[49m\u001b[43m \u001b[49m\u001b[38;5;28;43mstr\u001b[39;49m\u001b[43m(\u001b[49m\u001b[43mpackage_dir\u001b[49m\u001b[43m)\u001b[49m\u001b[43m)\u001b[49m\n\u001b[1;32m    656\u001b[0m     kwargs\u001b[38;5;241m.\u001b[39msetdefault(\u001b[38;5;124m'\u001b[39m\u001b[38;5;124mhome_configuration\u001b[39m\u001b[38;5;124m'\u001b[39m, pin\u001b[38;5;241m.\u001b[39mneutral(wrapper\u001b[38;5;241m.\u001b[39mmodel))\n\u001b[1;32m    657\u001b[0m     \u001b[38;5;28;01mreturn\u001b[39;00m \u001b[38;5;28mcls\u001b[39m(\n\u001b[1;32m    658\u001b[0m         wrapper\u001b[38;5;241m=\u001b[39mwrapper,\n\u001b[1;32m    659\u001b[0m         \u001b[38;5;241m*\u001b[39m\u001b[38;5;241m*\u001b[39mkwargs\n\u001b[1;32m    660\u001b[0m     )\n",
      "File \u001b[0;32m~/anaconda3/envs/timor-env/lib/python3.10/site-packages/cmeel.prefix/lib/python3.10/site-packages/pinocchio/robot_wrapper.py:17\u001b[0m, in \u001b[0;36mRobotWrapper.BuildFromURDF\u001b[0;34m(filename, package_dirs, root_joint, verbose, meshLoader)\u001b[0m\n\u001b[1;32m     14\u001b[0m \u001b[38;5;129m@staticmethod\u001b[39m\n\u001b[1;32m     15\u001b[0m \u001b[38;5;28;01mdef\u001b[39;00m \u001b[38;5;21mBuildFromURDF\u001b[39m(filename, package_dirs\u001b[38;5;241m=\u001b[39m\u001b[38;5;28;01mNone\u001b[39;00m, root_joint\u001b[38;5;241m=\u001b[39m\u001b[38;5;28;01mNone\u001b[39;00m, verbose\u001b[38;5;241m=\u001b[39m\u001b[38;5;28;01mFalse\u001b[39;00m, meshLoader\u001b[38;5;241m=\u001b[39m\u001b[38;5;28;01mNone\u001b[39;00m):\n\u001b[1;32m     16\u001b[0m     robot \u001b[38;5;241m=\u001b[39m RobotWrapper()\n\u001b[0;32m---> 17\u001b[0m     \u001b[43mrobot\u001b[49m\u001b[38;5;241;43m.\u001b[39;49m\u001b[43minitFromURDF\u001b[49m\u001b[43m(\u001b[49m\u001b[43mfilename\u001b[49m\u001b[43m,\u001b[49m\u001b[43m \u001b[49m\u001b[43mpackage_dirs\u001b[49m\u001b[43m,\u001b[49m\u001b[43m \u001b[49m\u001b[43mroot_joint\u001b[49m\u001b[43m,\u001b[49m\u001b[43m \u001b[49m\u001b[43mverbose\u001b[49m\u001b[43m,\u001b[49m\u001b[43m \u001b[49m\u001b[43mmeshLoader\u001b[49m\u001b[43m)\u001b[49m\n\u001b[1;32m     18\u001b[0m     \u001b[38;5;28;01mreturn\u001b[39;00m robot\n",
      "File \u001b[0;32m~/anaconda3/envs/timor-env/lib/python3.10/site-packages/cmeel.prefix/lib/python3.10/site-packages/pinocchio/robot_wrapper.py:21\u001b[0m, in \u001b[0;36mRobotWrapper.initFromURDF\u001b[0;34m(self, filename, package_dirs, root_joint, verbose, meshLoader)\u001b[0m\n\u001b[1;32m     20\u001b[0m \u001b[38;5;28;01mdef\u001b[39;00m \u001b[38;5;21minitFromURDF\u001b[39m(\u001b[38;5;28mself\u001b[39m,filename, package_dirs\u001b[38;5;241m=\u001b[39m\u001b[38;5;28;01mNone\u001b[39;00m, root_joint\u001b[38;5;241m=\u001b[39m\u001b[38;5;28;01mNone\u001b[39;00m, verbose\u001b[38;5;241m=\u001b[39m\u001b[38;5;28;01mFalse\u001b[39;00m, meshLoader\u001b[38;5;241m=\u001b[39m\u001b[38;5;28;01mNone\u001b[39;00m):\n\u001b[0;32m---> 21\u001b[0m     model, collision_model, visual_model \u001b[38;5;241m=\u001b[39m \u001b[43mbuildModelsFromUrdf\u001b[49m\u001b[43m(\u001b[49m\u001b[43mfilename\u001b[49m\u001b[43m,\u001b[49m\u001b[43m \u001b[49m\u001b[43mpackage_dirs\u001b[49m\u001b[43m,\u001b[49m\u001b[43m \u001b[49m\u001b[43mroot_joint\u001b[49m\u001b[43m,\u001b[49m\u001b[43m \u001b[49m\u001b[43mverbose\u001b[49m\u001b[43m,\u001b[49m\u001b[43m \u001b[49m\u001b[43mmeshLoader\u001b[49m\u001b[43m)\u001b[49m\n\u001b[1;32m     22\u001b[0m     RobotWrapper\u001b[38;5;241m.\u001b[39m\u001b[38;5;21m__init__\u001b[39m(\u001b[38;5;28mself\u001b[39m,model\u001b[38;5;241m=\u001b[39mmodel,collision_model\u001b[38;5;241m=\u001b[39mcollision_model,visual_model\u001b[38;5;241m=\u001b[39mvisual_model)\n",
      "File \u001b[0;32m~/anaconda3/envs/timor-env/lib/python3.10/site-packages/cmeel.prefix/lib/python3.10/site-packages/pinocchio/shortcuts.py:31\u001b[0m, in \u001b[0;36mbuildModelsFromUrdf\u001b[0;34m(filename, package_dirs, root_joint, verbose, meshLoader, geometry_types)\u001b[0m\n\u001b[1;32m     13\u001b[0m \u001b[38;5;250m\u001b[39m\u001b[38;5;124;03m\"\"\"Parse the URDF file given in input and return a Pinocchio Model followed by corresponding GeometryModels of types specified by geometry_types, in the same order as listed.\u001b[39;00m\n\u001b[1;32m     14\u001b[0m \u001b[38;5;124;03mExamples of usage:\u001b[39;00m\n\u001b[1;32m     15\u001b[0m \u001b[38;5;124;03m    # load model, collision model, and visual model, in this order (default)\u001b[39;00m\n\u001b[0;32m   (...)\u001b[0m\n\u001b[1;32m     27\u001b[0m \u001b[38;5;124;03m    For efficiency reasons, it is treated as operational frame and not as a joint of the model.\u001b[39;00m\n\u001b[1;32m     28\u001b[0m \u001b[38;5;124;03m\"\"\"\u001b[39;00m\n\u001b[1;32m     30\u001b[0m \u001b[38;5;28;01mif\u001b[39;00m root_joint \u001b[38;5;129;01mis\u001b[39;00m \u001b[38;5;28;01mNone\u001b[39;00m:\n\u001b[0;32m---> 31\u001b[0m     model \u001b[38;5;241m=\u001b[39m \u001b[43mpin\u001b[49m\u001b[38;5;241;43m.\u001b[39;49m\u001b[43mbuildModelFromUrdf\u001b[49m\u001b[43m(\u001b[49m\u001b[43mfilename\u001b[49m\u001b[43m)\u001b[49m\n\u001b[1;32m     32\u001b[0m \u001b[38;5;28;01melse\u001b[39;00m:\n\u001b[1;32m     33\u001b[0m     model \u001b[38;5;241m=\u001b[39m pin\u001b[38;5;241m.\u001b[39mbuildModelFromUrdf(filename, root_joint)\n",
      "\u001b[0;31mValueError\u001b[0m: The file assets/Assem_4305_JOINT/Assem_4305_JOINT/urdf/Assem_4305_JOINT.urdf does not contain a valid URDF model."
     ]
    }
   ],
   "source": [
    "from timor.Robot import PinRobot, RobotBase\n",
    "import os\n",
    "print(\"Current working directory:\", os.getcwd())\n",
    "robot = PinRobot.from_urdf(Path(\"assets/Assem_4305_JOINT/Assem_4305_JOINT/urdf/Assem_4305_JOINT.urdf\"), Path(\"\"))\n",
    "viz = robot.visualize()\n",
    "viz.viewer.jupyter_cell(height=400)"
   ]
  }
 ],
 "metadata": {
  "kernelspec": {
   "display_name": "timor-env",
   "language": "python",
   "name": "python3"
  },
  "language_info": {
   "codemirror_mode": {
    "name": "ipython",
    "version": 3
   },
   "file_extension": ".py",
   "mimetype": "text/x-python",
   "name": "python",
   "nbconvert_exporter": "python",
   "pygments_lexer": "ipython3",
   "version": "3.10.15"
  }
 },
 "nbformat": 4,
 "nbformat_minor": 2
}
