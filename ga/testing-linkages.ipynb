{
 "cells": [
  {
   "cell_type": "markdown",
   "id": "14cda98e-2354-43ec-acb5-e90c8e7407b5",
   "metadata": {},
   "source": [
    "# New linkage generation"
   ]
  },
  {
   "cell_type": "code",
   "execution_count": 1,
   "id": "8401096e-a250-47b6-bcce-03e3a5a8d079",
   "metadata": {},
   "outputs": [
    {
     "name": "stderr",
     "output_type": "stream",
     "text": [
      "2025-04-12 23:43:40,34 Timor INFO Loading custom configurations from /home/jonas/.config/timor.config\n",
      "2025-04-12 23:43:41,349 Timor INFO Getting robot modrob-gen2.\n",
      "2025-04-12 23:43:41,351 Timor WARNING Could not fetch robot modrob-gen2 due to [Errno 17] File exists: '/home/jonas/miniconda3/envs/timor-env/lib/python3.10/site-packages/cache/robots/modrob-gen2'.\n"
     ]
    }
   ],
   "source": [
    "from generate_module import base, create_revolute_joint\n",
    "\n",
    "from util import *\n",
    "from timor.Geometry import Mesh\n",
    "import os\n",
    "from timor.Bodies import Body, Connector, Gender\n",
    "from timor.utilities.transformation import Transformation\n",
    "from timor.utilities.spatial import rotX, rotY, rotZ\n",
    "from timor.Module import AtomicModule, ModulesDB, ModuleHeader\n",
    "from timor.Joints import Joint\n",
    "from timor.Geometry import Box, ComposedGeometry, Cylinder, Sphere, Mesh\n",
    "from timor.Module import *"
   ]
  },
  {
   "cell_type": "code",
   "execution_count": 2,
   "id": "c8c5de52-2392-453a-8df3-a5325d297d64",
   "metadata": {},
   "outputs": [],
   "source": [
    "def create_connectors_for_link(length, diameter, trans):\n",
    "    connectors = []\n",
    "    for i in range(2):\n",
    "        connectors.append(Connector(\n",
    "            f'{int(diameter * 100)}-{i}', \n",
    "            trans[i],\n",
    "            gender=Gender.f if i == 0 else Gender.m,\n",
    "            connector_type='default', \n",
    "            size=[diameter, diameter]))\n",
    "    return connectors\n",
    "\n",
    "def create_i_links(rod_name) -> ModulesDB:\n",
    "    \"\"\"For every size, creates an I-shaped link (aka a cylinder) with two connectors.\"\"\"\n",
    "    ROT_X = Transformation.from_rotation(rotX(-np.pi/2)[:3, :3])\n",
    "    sizes = (150 / 1000, 300 / 1000, 450 / 1000)\n",
    "    diameter = 25 / 1000\n",
    "    links = ModulesDB()\n",
    "    \n",
    "    \n",
    "    for size in sizes:\n",
    "        rod_id = f'{rod_name}-{size}'\n",
    "        trans = read_rod_trans(rod_name, size, diameter)\n",
    "        header = generate_header(rod_id, rod_id)\n",
    "        connectors = create_connectors_for_link(size, diameter, trans)\n",
    "        geometry = Box({'x': diameter, 'y': diameter, 'z': size}, pose=Transformation.from_translation([0, 0, 0]))\n",
    "        body = Body(rod_id, collision=geometry, connectors=connectors,\n",
    "                    inertia=square_rod_inertia(size, diameter))\n",
    "        links.add(AtomicModule(header, [body]))\n",
    "    return links"
   ]
  },
  {
   "cell_type": "code",
   "execution_count": 103,
   "id": "d3be061a-5458-40d0-aae4-e2227757a229",
   "metadata": {},
   "outputs": [
    {
     "name": "stdout",
     "output_type": "stream",
     "text": [
      "Module Revolute Joint: adaptor_joint, ID: 540_base\n",
      "DOF of the robot: 5\n",
      "You can open the visualizer by visiting the following URL:\n",
      "http://127.0.0.1:7059/static/\n"
     ]
    },
    {
     "data": {
      "text/plain": [
       "False"
      ]
     },
     "execution_count": 103,
     "metadata": {},
     "output_type": "execute_result"
    }
   ],
   "source": [
    "def read_rod_trans(rod_name, length, diameter):\n",
    "    # Rot\n",
    "    ROT_X_Reverse_180 = Transformation.from_rotation(rotX(-np.pi)[:3, :3])\n",
    "    ROT_X_Reverse_90  = Transformation.from_rotation(rotX(-np.pi/2)[:3, :3])\n",
    "    ROT_X_90  = Transformation.from_rotation(rotX(np.pi/2)[:3, :3])\n",
    "    ROT_Y_Reverse_90  = Transformation.from_rotation(rotY(-np.pi/2)[:3, :3])\n",
    "    ROT_Y_90  = Transformation.from_rotation(rotY(np.pi/2)[:3, :3])\n",
    "    ROT_Y_Reverse_180 = Transformation.from_rotation(rotY(-np.pi)[:3, :3])\n",
    "\n",
    "\n",
    "    # 540\n",
    "    config_540_out_1 = ROT_Y_Reverse_90 @ Transformation.from_translation([-length/2+diameter/2, -length/2+0.25*diameter, 1.25*diameter])\n",
    "    config_540_out_2 = ROT_X_90 @ Transformation.from_translation([0, -length+1.25*diameter/2, 1.25*diameter])\n",
    "    config_540_in_1 = ROT_X_Reverse_90 @ Transformation.from_translation([0, -length/2+diameter/2, -1.5*diameter])\n",
    "    config_540_in_2 = ROT_X_Reverse_180 @ Transformation.from_translation([0, 0, -length+2*diameter])\n",
    "    \n",
    "    # 430\n",
    "    config_430_out_1 = ROT_Y_Reverse_90 @ Transformation.from_translation([-length/2+diameter/2, 0, diameter])\n",
    "    config_430_out_2 = ROT_X_Reverse_180 @ Transformation.from_translation([0, 0, length/2+0.5*diameter])\n",
    "    config_430_in_1 = ROT_X_Reverse_90 @ Transformation.from_translation([0, -length/2+1.25*diameter, -2.25*diameter])\n",
    "    config_430_in_2 = ROT_X_Reverse_180 @ Transformation.from_translation([0, 0.75*diameter, -length+1.25*diameter])\n",
    "    \n",
    "    # 330\n",
    "    config_330_out_1 = ROT_Y_Reverse_180 @ Transformation.from_translation([0, 0, length/2+diameter/2])\n",
    "    config_330_out_2 = ROT_X_90 @ Transformation.from_translation([0, -length/2+diameter/2, diameter])\n",
    "    config_330_in_1 = ROT_X_Reverse_180 @ Transformation.from_translation([0, 0, -length/2+diameter])\n",
    "    config_330_in_2 = ROT_Y_90 @ ROT_X_Reverse_180 @ Transformation.from_translation([-length/2+diameter/2, 0, -diameter/2])\n",
    "    \n",
    "    \n",
    "    # base\n",
    "    base_out = ROT_Y_Reverse_90 @ Transformation.from_translation([-length/2+diameter/2, 0, 1.25*diameter])\n",
    "    if rod_name == \"baseto540\":\n",
    "        return [base_out, config_540_in_1]\n",
    "    elif rod_name == \"baseto430\":\n",
    "        return [base_out, config_430_in_2]\n",
    "    elif rod_name == \"baseto330\":\n",
    "        return [base_out, config_330_in_2]\n",
    "\n",
    "    # 540\n",
    "    elif rod_name == \"540to540\":\n",
    "        return [config_540_out_2, config_540_in_1]\n",
    "    elif rod_name == \"540to430\":\n",
    "        return [config_540_out_1, config_430_in_1]\n",
    "    elif rod_name == \"540to330\":\n",
    "        return [config_540_out_1, config_330_in_2]\n",
    "\n",
    "    # 430\n",
    "    elif rod_name == \"430to430\":\n",
    "        return [config_430_out_2, config_430_in_2]\n",
    "    elif rod_name == \"430to330\":\n",
    "        return [config_430_out_1, config_330_in_2]\n",
    "    \n",
    "    # 330\n",
    "    elif rod_name == \"330to330\":\n",
    "        return [config_330_out_1, config_330_in_1]\n",
    "        \n",
    "\n",
    "\n",
    "# Base and joint\n",
    "r_540_base = base(\"assets/540_base/540_base/urdf/540_base.urdf\")\n",
    "r_540_joint = create_revolute_joint(\"assets/540_joint/540_joint/urdf/540_joint.zip.urdf\")\n",
    "r_430_joint = create_revolute_joint(\"assets/430_joint/430_joint/urdf/430_joint.urdf\")\n",
    "r_330_joint = create_revolute_joint(\"assets/330_joint/330_joint/urdf/330_joint.urdf\")\n",
    "\n",
    "\n",
    "baseto540_links = create_i_links(rod_name=\"baseto540\")\n",
    "baseto430_links = create_i_links(rod_name=\"baseto430\")\n",
    "baseto330_links = create_i_links(rod_name=\"baseto330\")\n",
    "\n",
    "\n",
    "J540to540_links = create_i_links(rod_name=\"540to540\")\n",
    "J540to430_links = create_i_links(rod_name=\"540to430\")\n",
    "J540to330_links = create_i_links(rod_name=\"540to330\")\n",
    "\n",
    "J430to430_links = create_i_links(rod_name=\"430to430\")\n",
    "J430to330_links = create_i_links(rod_name=\"430to330\")\n",
    "\n",
    "J330to330_links = create_i_links(rod_name=\"330to330\")\n",
    "\n",
    "# Create database\n",
    "db = ModulesDB()\n",
    "db.add(r_540_base)\n",
    "db.add(r_430_joint)\n",
    "db.add(r_540_joint)\n",
    "db.add(r_330_joint)\n",
    "db = db.union(baseto540_links)\n",
    "db = db.union(baseto430_links)\n",
    "db = db.union(baseto330_links)\n",
    "db = db.union(J540to540_links)\n",
    "db = db.union(J540to430_links)\n",
    "db = db.union(J540to330_links)\n",
    "db = db.union(J430to430_links)\n",
    "db = db.union(J430to330_links)\n",
    "db = db.union(J330to330_links)\n",
    "# viz = db.debug_visualization()\n",
    "\n",
    "print(r_540_base)\n",
    "\n",
    "modules = ('540_base', 'baseto540-0.15', '540_joint', '540to430-0.15', '430_joint','430to330-0.15', '330_joint', '330to330-0.15', '330_joint')\n",
    "B = ModuleAssembly.from_serial_modules(db, modules)\n",
    "\n",
    "robot = B.to_pin_robot()\n",
    "# B.to_urdf(write_to=Path(\"robot6DOF.urdf\"))\n",
    "print(\"DOF of the robot:\",  robot.dof)\n",
    "viz = B.robot.visualize(coordinate_systems=\"full\")\n",
    "robot.has_self_collision()"
   ]
  },
  {
   "cell_type": "code",
   "execution_count": 104,
   "id": "656bc24e-59ee-463c-821c-9b173dd21340",
   "metadata": {},
   "outputs": [
    {
     "data": {
      "text/html": [
       "\n",
       "            <div style=\"height: 800px; width: 100%; overflow-x: auto; overflow-y: hidden; resize: both\">\n",
       "            <iframe src=\"http://127.0.0.1:7059/static/\" style=\"width: 100%; height: 100%; border: none\"></iframe>\n",
       "            </div>\n",
       "            "
      ],
      "text/plain": [
       "<IPython.core.display.HTML object>"
      ]
     },
     "execution_count": 104,
     "metadata": {},
     "output_type": "execute_result"
    }
   ],
   "source": [
    "viz.viewer.jupyter_cell(height=800)"
   ]
  },
  {
   "cell_type": "markdown",
   "id": "fca3fd45-d083-4c98-8660-2ae630144b98",
   "metadata": {},
   "source": [
    "### Things to check\n",
    "1. The size of the hole on the connector.\n",
    "2. The base seems rotate a bit at initial state.\n",
    "### base\n",
    "1. base to 540_joint\n",
    "2. base to 430_joint\n",
    "3. base to 330_joint\n",
    "\n",
    "### 540_joint\n",
    "1. 540 to 430\n",
    "2. 540 to 330\n",
    "3. 540 to 540\n",
    "\n",
    "### 430_joint\n",
    "1. 430 to 430\n",
    "2. 430 to 330\n",
    "\n",
    "### 330_joint\n",
    "N/A"
   ]
  }
 ],
 "metadata": {
  "kernelspec": {
   "display_name": "Python 3 (ipykernel)",
   "language": "python",
   "name": "python3"
  },
  "language_info": {
   "codemirror_mode": {
    "name": "ipython",
    "version": 3
   },
   "file_extension": ".py",
   "mimetype": "text/x-python",
   "name": "python",
   "nbconvert_exporter": "python",
   "pygments_lexer": "ipython3",
   "version": "3.10.16"
  }
 },
 "nbformat": 4,
 "nbformat_minor": 5
}
