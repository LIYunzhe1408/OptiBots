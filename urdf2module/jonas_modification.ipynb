{
 "cells": [
  {
   "cell_type": "markdown",
   "id": "c55c8734-b122-4b75-b77f-2bbf65de6368",
   "metadata": {},
   "source": [
    "### About\n",
    "  This notebook is based on /generate_module.ipynb that created by Jae Won Kim.\n",
    "\n",
    "### Change Log\n",
    "* In `create_revolute_joint()`(originally `revolute_joint()`):\n",
    "  1. Assign the type of the connector of the proximal body of the `base_rev_joint` as `base` to correctly determine the base of the robot and replace `base()` function.\n",
    "  2. Keep the original value of the transformation of `parent2joint`, and set the value of the transformation(rotation and translation) of `joint2child` to [0,0,0] to eliminate the minor incline in previous configuration.\n",
    "  3. Temporarily comment the `r_p`, `p_p`, `r_d`, `p_d`, they seems not being used.\n",
    "* In `read_rod_trans()`:\n",
    "  1. Add rod configuration, specifically the rotation and translation of the connectors, between different joints"
   ]
  },
  {
   "cell_type": "code",
   "execution_count": 1,
   "id": "0301b191-5202-4182-894e-512aecaee3f8",
   "metadata": {},
   "outputs": [],
   "source": [
    "from datetime import date\n",
    "author = \"Jonas Li, Jae Won Kim\"\n",
    "email = \"liyunzhe.jonas@berkeley.edu\"\n",
    "affiliation = \"UC Berkeley\"\n",
    "def generate_header(header_id, header_name):\n",
    "    return ModuleHeader(ID=header_id,\n",
    "                        name=header_name,\n",
    "                        date=date.today().strftime('%Y-%m-%d'),\n",
    "                        author=author,\n",
    "                        email=email,\n",
    "                        affiliation=affiliation\n",
    "                        )"
   ]
  },
  {
   "cell_type": "code",
   "execution_count": 2,
   "id": "83e49f4a-1377-45a8-b5b4-db172727db6d",
   "metadata": {},
   "outputs": [
    {
     "name": "stderr",
     "output_type": "stream",
     "text": [
      "2025-02-17 23:35:57,909 Timor INFO Loading custom configurations from /home/mscsim/.config/timor.config\n",
      "2025-02-17 23:35:57,915 Timor INFO Getting robot modrob-gen2.\n",
      "2025-02-17 23:35:57,915 Timor WARNING Could not fetch robot modrob-gen2 due to [Errno 17] File exists: '/home/mscsim/anaconda3/envs/timor-env/lib/python3.10/site-packages/cache/robots/modrob-gen2'.\n"
     ]
    }
   ],
   "source": [
    "from util import *\n",
    "from timor.Geometry import Mesh\n",
    "import os\n",
    "import pygad\n",
    "from timor.Bodies import Body, Connector, Gender\n",
    "from timor.utilities.transformation import Transformation\n",
    "from timor.utilities.spatial import rotX, rotY, rotZ\n",
    "from timor.Module import AtomicModule, ModulesDB, ModuleHeader\n",
    "from timor import ModuleAssembly, ModulesDB\n",
    "from timor.configuration_search.GA import GA\n",
    "from timor.Joints import Joint\n",
    "from timor.Geometry import Box, ComposedGeometry, Cylinder, Sphere, Mesh\n",
    "from timor.Module import *\n",
    "from timor.utilities.dtypes import Lexicographic\n",
    "from spatialmath import SE3\n",
    "from scipy.spatial.transform import Rotation as R"
   ]
  },
  {
   "cell_type": "markdown",
   "id": "06026b0c-ebf7-464a-acea-a1e994bf865f",
   "metadata": {},
   "source": [
    "Steps:\n",
    "1. Get proximal/distal body geometry, inertial, and origin\n",
    "2. Define connector of proximal/distal body\n",
    "3. Define proximal/distal body\n",
    "4. Define joint\n",
    "   * Define transformation between joint and connector "
   ]
  },
  {
   "cell_type": "code",
   "execution_count": 3,
   "id": "31baeb17-c622-4664-b347-ebe0eba6b498",
   "metadata": {},
   "outputs": [],
   "source": [
    "diameter = 80 / 1000\n",
    "ROT_X = Transformation.from_rotation(rotX(np.pi)[:3, :3]) \n",
    "def eef() -> ModulesDB:\n",
    "    \"\"\"Creates a simplified end effector module.\"\"\"\n",
    "    geometry = Sphere({'r': diameter / 5}, pose=Transformation.from_translation([0, 0, diameter / 2]))\n",
    "    c_robot = Connector('robot2eef', ROT_X, gender=Gender.f, connector_type='default', size=[25 / 1000, 25 / 1000])\n",
    "    c_world = Connector('end-effector', gender=Gender.m, connector_type='eef', size=[None,None],\n",
    "                        body2connector=Transformation.from_translation([0, 0, diameter / 2]))\n",
    "    return ModulesDB({\n",
    "        AtomicModule(generate_header(\"eef\", \"End Effector: eef\"),\n",
    "                     [Body('EEF', collision=geometry, connectors=[c_robot, c_world])], [])\n",
    "    })\n",
    "\n",
    "def create_revolute_joint(urdf_path: str, eef=False):\n",
    "    dir_name = urdf_path.split('/')[1]\n",
    "    urdf_dict = urdf_to_dict(urdf_path)\n",
    "    joint = urdf_dict['robot']['joint']\n",
    "    proximal_name = joint['parent']['link']\n",
    "    distal_name = joint['child']['link']\n",
    "    links = urdf_dict['robot']['link']\n",
    "\n",
    "    \n",
    "    for link in links:\n",
    "        link_name = link['name']\n",
    "        stl_path = link['collision']['geometry']['mesh']['filename']\n",
    "        assets_path = os.path.join(\"assets\", dir_name, dir_name, stl_path.split('/')[1], stl_path.split('/')[2])\n",
    "        if link_name == proximal_name:\n",
    "            proximal_inertial = link['inertial']\n",
    "            proximal_origin = link['collision']['origin']\n",
    "            proximal_geometry = Mesh({\"file\": assets_path})\n",
    "        elif link_name == distal_name:\n",
    "            distal_inertial = link['inertial']\n",
    "            distal_origin = link['collision']['origin']\n",
    "            distal_geometry = Mesh({\"file\": assets_path})\n",
    "    \n",
    "    \n",
    "\n",
    "    diameter = 25 / 1000\n",
    "    r_p, p_p = body2connector_helper([float(x) for x in joint['origin']['xyz'].split(\" \")], [float(x) for x in joint['origin']['rpy'].split(\" \")], [float(x) for x in proximal_origin['xyz'].split(\" \")], [float(x) for x in proximal_origin['rpy'].split(\" \")])\n",
    "    r_d, p_d = body2connector_helper([float(x) for x in joint['origin']['xyz'].split(\" \")], [float(x) for x in joint['origin']['rpy'].split(\" \")], [float(x) for x in distal_origin['xyz'].split(\" \")], [float(x) for x in distal_origin['rpy'].split(\" \")])\n",
    "    \n",
    "    # ROT_X = Transformation.from_rotation(-rotX(np.pi/2)[:3, :3])\n",
    "    # ROT_Y = Transformation.from_rotation(rotY(-np.pi)[:3, :3])\n",
    "    c_type = 'base' if  joint['name'] == 'base_rev_joint' else 'default'\n",
    "        \n",
    "    proximal_connector = Connector(\n",
    "                                    connector_id=proximal_name+\"connector\",\n",
    "                                    body2connector=Transformation.from_roto_translation(\n",
    "                                                    R=rpy_to_rotation_matrix(np.array([0,0, 0])),       \n",
    "                                                    #R=r_p,\n",
    "                                                    p=np.array([0, -0.0, 0]),\n",
    "                                                    #p=p_p,\n",
    "                                    ),\n",
    "                                    gender=Gender.f,\n",
    "                                    connector_type=c_type,\n",
    "                                    size=[diameter, diameter]\n",
    "        )\n",
    "    distal_connector = Connector(\n",
    "                                    connector_id=distal_name+\"connector\",\n",
    "                                    body2connector=Transformation.from_roto_translation(\n",
    "                                                    R=rpy_to_rotation_matrix(np.array([0,0, 0])),\n",
    "                                                    p=np.array([0, -0.0, 0]),            \n",
    "                                                    # R=r_d,\n",
    "                                                    # p=p_d\n",
    "                                    ),\n",
    "                                    gender=Gender.m if not eef else Gender.h,\n",
    "                                    connector_type='default',\n",
    "                                    size=[diameter, diameter]\n",
    "                                    \n",
    "        )            \n",
    "    \n",
    "    proximal = Body(proximal_name, collision=proximal_geometry,\n",
    "                    connectors=[proximal_connector],\n",
    "                    inertia=create_inertia(proximal_inertial)\n",
    "                    )\n",
    "    distal = Body(distal_name, collision=distal_geometry,\n",
    "                    connectors=[distal_connector],\n",
    "                    inertia=create_inertia(distal_inertial)\n",
    "                    )\n",
    "    print(joint['origin']['xyz'].split(\" \"))\n",
    "    r_joint = Joint(\n",
    "        joint_id=joint['name'],\n",
    "        joint_type=joint['type'],\n",
    "        parent_body=proximal,\n",
    "        child_body=distal,\n",
    "        q_limits=np.array([-np.pi, np.pi]),\n",
    "        torque_limit=1000,\n",
    "        acceleration_limit=5,\n",
    "        velocity_limit=10,\n",
    "        # parent2joint=Transformation.from_roto_translation(\n",
    "        #                                             R=Rotation.from_euler('xyz', [float(x) for x in joint['origin']['rpy'].split(\" \")]).as_matrix(),#rpy_to_rotation_matrix([float(x) for x in joint['origin']['rpy'].split(\" \")]),\n",
    "        #                                             p=joint['origin']['xyz'].split(\" \")\n",
    "        #                         ),\n",
    "        parent2joint=create_homogeneous_matrix([float(x) for x in joint['origin']['xyz'].split(\" \")], [float(x) for x in joint['origin']['rpy'].split(\" \")]),\n",
    "        # joint2child=SE3()\n",
    "        joint2child=np.eye(4)#Transformation.from_roto_translation(\n",
    "                                #                     R=rpy_to_rotation_matrix(np.array([0, 0, 0])),\n",
    "                                #                     p=np.array([0, -0.0, 0])\n",
    "                                # )\n",
    "    )\n",
    "    \n",
    "    return AtomicModule(generate_header(joint['name'], 'Revolute Joint: ' + joint['name']), [proximal, distal], [r_joint])\n",
    "    return ModulesDB({\n",
    "            AtomicModule(generate_header(joint['name'], 'Revolute Joint: ' + joint['name']), [proximal, distal], [r_joint])\n",
    "            # AtomicModule(generate_header(joint['name'], \"R\"), [proximal])\n",
    "        })"
   ]
  },
  {
   "cell_type": "code",
   "execution_count": 4,
   "id": "6189c227",
   "metadata": {},
   "outputs": [],
   "source": [
    "T = SE3.Trans([1, 2, 3]) "
   ]
  },
  {
   "cell_type": "code",
   "execution_count": 5,
   "id": "5ead2328-c7a4-4194-8735-0c9367b81242",
   "metadata": {},
   "outputs": [],
   "source": [
    "def create_connectors_for_link(length, diameter, trans):\n",
    "    connectors = []\n",
    "    for i in range(2):\n",
    "        connectors.append(Connector(\n",
    "            f'{int(diameter * 100)}-{i}', \n",
    "            trans[i],\n",
    "            gender=Gender.f if i == 0 else Gender.m,\n",
    "            connector_type='default', \n",
    "            size=[diameter, diameter]))\n",
    "    return connectors\n",
    "\n",
    "def create_i_links(rod_name) -> ModulesDB:\n",
    "    \"\"\"For every size, creates an I-shaped link (aka a cylinder) with two connectors.\"\"\"\n",
    "    ROT_X = Transformation.from_rotation(rotX(-np.pi/2)[:3, :3])\n",
    "    sizes = (150 / 1000, 300 / 1000, 450 / 1000)\n",
    "    diameter = 25 / 1000\n",
    "    links = ModulesDB()\n",
    "    \n",
    "    \n",
    "    for size in sizes:\n",
    "        rod_id = f'{rod_name}-{size}'\n",
    "        trans = read_rod_trans(rod_name, size, diameter)\n",
    "        header = generate_header(rod_id, rod_id)\n",
    "        # connectors = (\n",
    "        #     Connector(rod_id,\n",
    "        #             ROT_X @ Transformation.from_translation([0, size/2, 0]) if i == 0\n",
    "        #             else Transformation.from_translation([0, 0, 0.077]),\n",
    "        #             gender=Gender.f if i == 0 else Gender.m,\n",
    "        #             connector_type='default',\n",
    "        #             size=[diameter, diameter])\n",
    "        #     for i in range(2)\n",
    "        # )\n",
    "        # print(type(connectors))\n",
    "        connectors = create_connectors_for_link(size, diameter, trans)\n",
    "        geometry = Box({'x': diameter, 'y': diameter, 'z': size}, pose=Transformation.from_translation([0, 0, 0]))\n",
    "        body = Body(rod_id, collision=geometry, connectors=connectors,\n",
    "                    inertia=square_rod_inertia(size, diameter))\n",
    "        links.add(AtomicModule(header, [body]))\n",
    "    return links\n",
    "    \n",
    "def read_rod_trans(rod_name, length, diameter):\n",
    "    if rod_name == \"baseto4310\":\n",
    "        ROT_X = Transformation.from_rotation(rotX(-np.pi/2)[:3, :3])\n",
    "        return [ROT_X @ Transformation.from_translation([0, length/2, 0]), Transformation.from_translation([0, 0, 0.077])]\n",
    "    elif rod_name == \"r4310to4305\":\n",
    "        ROT_X_90 = Transformation.from_rotation(rotX(-np.pi/2)[:3, :3])\n",
    "        ROT_Z_180 = Transformation.from_rotation(rotZ(np.pi)[:3, :3])\n",
    "        ROT_Y = Transformation.from_rotation(rotX(np.pi/2)[:3, :3])\n",
    "        config_1 = [Transformation.from_translation([0, 0, 0]), Transformation.from_translation([0, -diameter, -length/2+diameter/2])]\n",
    "        config_2 = [ROT_Y @ Transformation.from_translation([0, length/2, 0]), ROT_Y @ Transformation.from_translation([0, -length/2+diameter/2, 0])]\n",
    "        return config_2\n",
    "    elif rod_name == \"r4310to4310\":\n",
    "        ROT_X_90 = Transformation.from_rotation(rotX(-np.pi/2)[:3, :3])\n",
    "        ROT_Z_180 = Transformation.from_rotation(rotZ(np.pi)[:3, :3])\n",
    "        ROT_Z_90 = Transformation.from_rotation(rotZ(np.pi/2)[:3, :3])\n",
    "        ROT_Z_N90 = Transformation.from_rotation(rotZ(-np.pi/2)[:3, :3])\n",
    "        ROT_Y = Transformation.from_rotation(rotX(np.pi/2)[:3, :3])\n",
    "        ROT_Y_180 = Transformation.from_rotation(rotX(np.pi)[:3, :3])\n",
    "        config_1 = [ROT_Z_180 @ ROT_Y @ Transformation.from_translation([0, length/2-diameter/2, 0]), Transformation.from_translation([0, -diameter, -length/2+diameter/2])]\n",
    "        config_2 = [ROT_Z_90 @ ROT_X_90 @ ROT_Y_180 @ Transformation.from_translation([0, length/2-diameter/2, 0]), Transformation.from_translation([0, -diameter, -length/2+diameter/2])]\n",
    "        return config_1"
   ]
  },
  {
   "cell_type": "code",
   "execution_count": 6,
   "id": "557f6500-6434-48f5-b91d-845abf779257",
   "metadata": {},
   "outputs": [
    {
     "name": "stdout",
     "output_type": "stream",
     "text": [
      "['0', '-0.077', '0']\n",
      "['0.0255', '-0.0395', '0']\n",
      "['0.0255', '-0.0395', '0']\n",
      "You can open the visualizer by visiting the following URL:\n",
      "http://127.0.0.1:7000/static/\n"
     ]
    }
   ],
   "source": [
    "# Base and joint\n",
    "r_4310_base = create_revolute_joint(\"assets/Assem_4310_BASE/Assem_4310_BASE/urdf/Assem_4310_BASE.urdf\")\n",
    "r_4305_joint = create_revolute_joint(\"assets/Assem_4305_JOINT/Assem_4305_JOINT/urdf/Assem_4305_JOINT.urdf\")\n",
    "r_4310_joint = create_revolute_joint(\"assets/Assem_4310_JOINT/Assem_4310_JOINT/urdf/Assem_4310_JOINT.urdf\")\n",
    "\n",
    "# Links\n",
    "baseto4310_links = create_i_links(rod_name=\"baseto4310\")\n",
    "r4310to4305_links = create_i_links(rod_name=\"r4310to4305\")\n",
    "r4310to4310_links = create_i_links(rod_name=\"r4310to4310\")\n",
    "\n",
    "eef = eef()\n",
    "\n",
    "# Create database\n",
    "db = ModulesDB()\n",
    "db.add(r_4310_base)\n",
    "db.add(r_4310_joint)\n",
    "db.add(r_4305_joint)\n",
    "db = db.union(baseto4310_links)\n",
    "db = db.union(r4310to4305_links)\n",
    "db = db.union(r4310to4310_links)\n",
    "db = db.union(eef)\n",
    "viz = db.debug_visualization()"
   ]
  },
  {
   "cell_type": "code",
   "execution_count": 7,
   "id": "65fd850a-86e1-42e2-afee-d95b985cb0b2",
   "metadata": {},
   "outputs": [
    {
     "name": "stdout",
     "output_type": "stream",
     "text": [
      "You can open the visualizer by visiting the following URL:\n",
      "http://127.0.0.1:7001/static/\n"
     ]
    }
   ],
   "source": [
    "modules = ('base_rev_joint', 'baseto4310-0.15','motor4310_rev_joint', 'r4310to4310-0.15', 'motor4310_rev_joint', 'r4310to4310-0.15', 'motor4310_rev_joint', 'r4310to4305-0.15', 'motor4305_rev_joint')\n",
    "B = ModuleAssembly.from_serial_modules(db, modules)\n",
    "robot = B.to_pin_robot()\n",
    "viz = robot.visualize()"
   ]
  },
  {
   "cell_type": "code",
   "execution_count": 8,
   "id": "548a480e",
   "metadata": {},
   "outputs": [
    {
     "name": "stdout",
     "output_type": "stream",
     "text": [
      "{'baseto4310-0.3': <timor.Module.AtomicModule object at 0x7f7b3ed1b010>, 'baseto4310-0.45': <timor.Module.AtomicModule object at 0x7f7b3ed1bdc0>, 'base_rev_joint': <timor.Module.AtomicModule object at 0x7f7b3ed196f0>, 'motor4310_rev_joint': <timor.Module.AtomicModule object at 0x7f7b3ed1a8c0>, 'r4310to4310-0.15': <timor.Module.AtomicModule object at 0x7f7b3ed12f20>, 'r4310to4305-0.15': <timor.Module.AtomicModule object at 0x7f7b3ed19c00>, 'r4310to4310-0.3': <timor.Module.AtomicModule object at 0x7f7b3ed121d0>, 'r4310to4305-0.45': <timor.Module.AtomicModule object at 0x7f7b3ed104c0>, 'baseto4310-0.15': <timor.Module.AtomicModule object at 0x7f7b3ed1ac80>, 'motor4305_rev_joint': <timor.Module.AtomicModule object at 0x7f7b3ed18eb0>, 'eef': <timor.Module.AtomicModule object at 0x7f7b3ed10c10>, 'r4310to4305-0.3': <timor.Module.AtomicModule object at 0x7f7b3ed19d50>, 'r4310to4310-0.45': <timor.Module.AtomicModule object at 0x7f7b3ed12b00>}\n"
     ]
    }
   ],
   "source": [
    "our_hyperparameters = {\n",
    "    'population_size': 10,\n",
    "    'num_generations': 50,\n",
    "    'num_genes': 6,\n",
    "    'save_solutions_dir': None\n",
    "}\n",
    "\n",
    "def fitness_scalar(assembly: ModuleAssembly, ga_instance: pygad.GA, index: int) -> float:\n",
    "    \"\"\"We start with a very simple fitness function that returns the negative mass of the assembly\"\"\"\n",
    "    if assembly.nJoints != 4:\n",
    "        return -10000\n",
    "    return -assembly.mass\n",
    "print(db.by_id)"
   ]
  },
  {
   "cell_type": "code",
   "execution_count": 13,
   "id": "1b4aed13",
   "metadata": {},
   "outputs": [],
   "source": [
    "from reachability import Reachability\n",
    "how_many_times_to_split_angle_range = 30\n",
    "world_resolution = 0.01\n",
    "world_dimension = [1.00, 1.00, 1.00]\n",
    "num_threads = 5\n",
    "\n",
    "def fitness_function(assembly: ModuleAssembly, ga_instance: pygad.GA, index: int) -> float:\n",
    "    if assembly.nJoints != 5:\n",
    "        return -1000\n",
    "    reachability = Reachability(robot=assembly.to_pin_robot(), angle_interval=how_many_times_to_split_angle_range, world_resolution=world_resolution)\n",
    "    valid_poses = reachability.reachability_random_sample(num_samples = 100000)\n",
    "    reachable_space = reachability.find_reachibility_percentage(world_dim=world_dimension, world_res=world_resolution)\n",
    "\n",
    "    return reachable_space"
   ]
  },
  {
   "cell_type": "code",
   "execution_count": 14,
   "id": "5389e556",
   "metadata": {},
   "outputs": [
    {
     "name": "stderr",
     "output_type": "stream",
     "text": [
      "2025-02-17 23:36:58,481 Timor INFO Hyperparameters used: {\"population_size\": 10, \"num_generations\": 50, \"num_genes\": 6, \"mutation_probability\": 0.2, \"num_parents_mating\": 5, \"keep_parents\": 4, \"keep_elitism\": 5, \"save_solutions_dir\": null}\n",
      "2025-02-17 23:36:58,483 Timor INFO Progress unit: ProgressUnit.GENERATIONS\n",
      "Generations:  98%|█████████▊| 50/51 [00:00<00:00, 175.47it/s]\n",
      "2025-02-17 23:36:58,810 Timor INFO The best solution was found at generation 0 with a fitness value of -1000.\n",
      "2025-02-17 23:36:58,810 Timor INFO Best solution: ('base_rev_joint', 'baseto4310-0.45', 'baseto4310-0.15', 'motor4310_rev_joint', 'eef')\n",
      "2025-02-17 23:36:58,811 Timor INFO Total optimization time: 0.29 seconds.\n"
     ]
    }
   ],
   "source": [
    "# from timor_ga import fitness_function\n",
    "\n",
    "\n",
    "ga = GA(db, our_hyperparameters) \n",
    "ga_optimizer = ga.optimize(fitness_function=fitness_function, save_best_solutions=True)"
   ]
  },
  {
   "cell_type": "code",
   "execution_count": 15,
   "id": "6c21705f",
   "metadata": {},
   "outputs": [
    {
     "name": "stdout",
     "output_type": "stream",
     "text": [
      "(array([ 1, 11, 11,  0,  6, 13]), -1000, 0)\n",
      "[ 1 11 11  0  6 13]\n",
      "['baseto4310-0.3', 'baseto4310-0.45', 'base_rev_joint', 'motor4310_rev_joint', 'r4310to4310-0.15', 'r4310to4305-0.15', 'r4310to4310-0.3', 'r4310to4305-0.45', 'baseto4310-0.15', 'motor4305_rev_joint', 'eef', 'r4310to4305-0.3', 'r4310to4310-0.45']\n",
      "['base_rev_joint', 'r4310to4310-0.3', 'r4310to4310-0.3', 'EMPTY', 'baseto4310-0.45', 'eef']\n"
     ]
    }
   ],
   "source": [
    "print(ga_optimizer.best_solution())\n",
    "print(ga_optimizer.population[0])\n",
    "print((list(db.by_id.keys())))\n",
    "num2id = {v: k for k, v in ga.id2num.items()}  \n",
    "\n",
    "# Convert solution numbers to module IDs\n",
    "module_ids = [num2id[num] for num in ga_optimizer.best_solution()[0]]\n",
    "print(module_ids)"
   ]
  },
  {
   "cell_type": "code",
   "execution_count": 16,
   "id": "35d4c0f4",
   "metadata": {},
   "outputs": [
    {
     "name": "stdout",
     "output_type": "stream",
     "text": [
      "You can open the visualizer by visiting the following URL:\n",
      "http://127.0.0.1:7002/static/\n"
     ]
    },
    {
     "data": {
      "text/plain": [
       "<pinocchio.visualize.meshcat_visualizer.MeshcatVisualizer at 0x7f7b3edbce50>"
      ]
     },
     "execution_count": 16,
     "metadata": {},
     "output_type": "execute_result"
    }
   ],
   "source": [
    "modules = ('base_rev_joint', 'r4310to4305-0.15', 'motor4310_rev_joint', 'r4310to4310-0.3','motor4305_rev_joint', 'eef')\n",
    "A = ModuleAssembly.from_serial_modules(db, modules)\n",
    "robot = A.to_pin_robot() #convert to pinocchio robot\n",
    "\n",
    "robot.visualize()"
   ]
  },
  {
   "cell_type": "markdown",
   "id": "2262974c-412b-4d32-b879-f79ae1469227",
   "metadata": {},
   "source": [
    "# -------------------------------------------------------"
   ]
  },
  {
   "cell_type": "markdown",
   "id": "d62a6835-e0c1-4957-b680-c7e99b497b5a",
   "metadata": {},
   "source": [
    "# Should not use"
   ]
  },
  {
   "cell_type": "code",
   "execution_count": 11,
   "id": "7858f167-741e-4907-a82f-b8b082985e20",
   "metadata": {},
   "outputs": [
    {
     "data": {
      "text/plain": [
       "{'robot': {'name': 'Assem_4310_BASE',\n",
       "  'link': [{'name': 'base_motor_link',\n",
       "    'inertial': {'origin': {'xyz': '1.6355E-05 2.1044E-06 0.030945',\n",
       "      'rpy': '0 0 0'},\n",
       "     'mass': {'value': '1.1937'},\n",
       "     'inertia': {'ixx': '0.0011798',\n",
       "      'ixy': '-3.4788E-08',\n",
       "      'ixz': '2.8837E-07',\n",
       "      'iyy': '0.0010863',\n",
       "      'iyz': '5.0519E-08',\n",
       "      'izz': '0.0016066'}},\n",
       "    'visual': {'origin': {'xyz': '0 0 0', 'rpy': '0 0 0'},\n",
       "     'geometry': {'mesh': {'filename': '../meshes/base_motor_link.STL'}},\n",
       "     'material': {'name': '', 'color': {'rgba': '0.89804 0.91765 0.92941 1'}}},\n",
       "    'collision': {'origin': {'xyz': '0 0 0', 'rpy': '0 0 0'},\n",
       "     'geometry': {'mesh': {'filename': '../meshes/base_motor_link.STL'}}}},\n",
       "   {'name': 'base_out_link',\n",
       "    'inertial': {'origin': {'xyz': '2.3272E-17 0.0011054 0.008691',\n",
       "      'rpy': '0 0 0'},\n",
       "     'mass': {'value': '0.088545'},\n",
       "     'inertia': {'ixx': '2.4599E-05',\n",
       "      'ixy': '-1.5532E-21',\n",
       "      'ixz': '3.7828E-22',\n",
       "      'iyy': '2.5766E-05',\n",
       "      'iyz': '-7.8406E-07',\n",
       "      'izz': '3.0632E-05'}},\n",
       "    'visual': {'origin': {'xyz': '0 0 0', 'rpy': '0 0 0'},\n",
       "     'geometry': {'mesh': {'filename': '../meshes/base_out_link.STL'}},\n",
       "     'material': {'name': '', 'color': {'rgba': '0.89804 0.91765 0.92941 1'}}},\n",
       "    'collision': {'origin': {'xyz': '0 0 0', 'rpy': '0 0 0'},\n",
       "     'geometry': {'mesh': {'filename': '../meshes/base_out_link.STL'}}}}],\n",
       "  'joint': {'name': 'base_rev_joint',\n",
       "   'type': 'revolute',\n",
       "   'origin': {'xyz': '0 -0.077 0', 'rpy': '1.5708 -1.5708 0'},\n",
       "   'parent': {'link': 'base_motor_link'},\n",
       "   'child': {'link': 'base_out_link'},\n",
       "   'axis': {'xyz': '1 0 0'},\n",
       "   'limit': {'lower': '0', 'upper': '0', 'effort': '0', 'velocity': '0'}}}}"
      ]
     },
     "execution_count": 11,
     "metadata": {},
     "output_type": "execute_result"
    }
   ],
   "source": [
    "urdf_path = \"assets/Assem_4310_BASE/Assem_4310_BASE/urdf/Assem_4310_BASE.urdf\"\n",
    "dir_name = urdf_path.split('/')[1]\n",
    "urdf_dict = urdf_to_dict(urdf_path)\n",
    "urdf_dict"
   ]
  },
  {
   "cell_type": "code",
   "execution_count": null,
   "id": "2142030f-c0b7-4a56-873c-5eb9ac534ee2",
   "metadata": {},
   "outputs": [
    {
     "name": "stdout",
     "output_type": "stream",
     "text": [
      "You can open the visualizer by visiting the following URL:\n",
      "http://127.0.0.1:7010/static/\n"
     ]
    },
    {
     "data": {
      "text/plain": [
       "<pinocchio.visualize.meshcat_visualizer.MeshcatVisualizer at 0x7d95ecdee860>"
      ]
     },
     "execution_count": 12,
     "metadata": {},
     "output_type": "execute_result"
    }
   ],
   "source": [
    "def create_base(urdf_path: str) -> ModulesDB:    \n",
    "    dir_name = urdf_path.split('/')[1]\n",
    "    urdf_dict = urdf_to_dict(urdf_path)\n",
    "    \n",
    "    joint = urdf_dict['robot']['joint']\n",
    "    \n",
    "    # Body Geometry\n",
    "    stl_path = urdf_dict['robot']['link'][0]['collision']['geometry']['mesh']['filename']\n",
    "    assets_path = os.path.join(\"assets\", dir_name, dir_name, stl_path.split('/')[1], stl_path.split('/')[2])\n",
    "    stl_geometry = Mesh({\"file\": assets_path})\n",
    "\n",
    "    # Connector:\n",
    "    # c_world: connect with the world coordinate\n",
    "    # c_robot: connect with the robot coordinate\n",
    "    diameter = 25 / 1000\n",
    "    ROT_X = Transformation.from_rotation(rotX(-np.pi/2)[:3, :3])\n",
    "    c_world = Connector('base', ROT_X, gender=Gender.f, connector_type='base')\n",
    "    c_robot = Connector('base2robot', gender=Gender.m, connector_type='default', size=[diameter, diameter])\n",
    "\n",
    "    return AtomicModule(\n",
    "                            generate_header('base', 'Base'),\n",
    "                            [Body('base', \n",
    "                                  collision=stl_geometry, \n",
    "                                  connectors=[c_world, c_robot])])\n",
    "    \n",
    "base = create_base(\"assets/Assem_4310_BASE/Assem_4310_BASE/urdf/Assem_4310_BASE.urdf\")\n",
    "base.debug_visualization()"
   ]
  }
 ],
 "metadata": {
  "kernelspec": {
   "display_name": "timor-env",
   "language": "python",
   "name": "python3"
  },
  "language_info": {
   "codemirror_mode": {
    "name": "ipython",
    "version": 3
   },
   "file_extension": ".py",
   "mimetype": "text/x-python",
   "name": "python",
   "nbconvert_exporter": "python",
   "pygments_lexer": "ipython3",
   "version": "3.10.16"
  }
 },
 "nbformat": 4,
 "nbformat_minor": 5
}
