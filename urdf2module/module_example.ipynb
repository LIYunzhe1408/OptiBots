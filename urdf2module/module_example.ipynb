{
 "cells": [
  {
   "cell_type": "code",
   "execution_count": 1,
   "metadata": {},
   "outputs": [
    {
     "name": "stderr",
     "output_type": "stream",
     "text": [
      "2024-12-06 00:01:02,225 Timor INFO Loading custom configurations from /home/mscsim/.config/timor.config\n",
      "2024-12-06 00:01:03,522 Timor INFO Getting robot modrob-gen2.\n",
      "2024-12-06 00:01:03,523 Timor WARNING Could not fetch robot modrob-gen2 due to [Errno 17] File exists: '/home/mscsim/anaconda3/envs/timor-env/lib/python3.10/site-packages/cache/robots/modrob-gen2'.\n"
     ]
    }
   ],
   "source": [
    "from datetime import datetime\n",
    "from pathlib import Path\n",
    "\n",
    "import numpy as np\n",
    "import pinocchio as pin\n",
    "\n",
    "from timor.Bodies import Body, Connector, Gender\n",
    "from timor.Joints import Joint\n",
    "from timor.Module import *\n",
    "from timor.Geometry import Box, ComposedGeometry, Cylinder, Sphere, Mesh\n",
    "from timor.utilities.transformation import Transformation\n",
    "from timor.utilities.spatial import rotX, rotY, rotZ"
   ]
  },
  {
   "cell_type": "code",
   "execution_count": 2,
   "metadata": {},
   "outputs": [
    {
     "name": "stdout",
     "output_type": "stream",
     "text": [
      "You can open the visualizer by visiting the following URL:\n",
      "http://127.0.0.1:7003/static/\n"
     ]
    },
    {
     "data": {
      "text/html": [
       "\n",
       "            <div style=\"height: 400px; width: 100%; overflow-x: auto; overflow-y: hidden; resize: both\">\n",
       "            <iframe src=\"http://127.0.0.1:7003/static/\" style=\"width: 100%; height: 100%; border: none\"></iframe>\n",
       "            </div>\n",
       "            "
      ],
      "text/plain": [
       "<IPython.core.display.HTML object>"
      ]
     },
     "execution_count": 2,
     "metadata": {},
     "output_type": "execute_result"
    }
   ],
   "source": [
    "from generate_module import *\n",
    "\n",
    "urdf_file = \"assets/Assem_4305_JOINT/Assem_4305_JOINT/urdf/Assem_4305_JOINT.urdf\"\n",
    "r_joint = revolute_joint(urdf_file)\n",
    "viz = r_joint.debug_visualization()\n",
    "\n",
    "viz.viewer.jupyter_cell(height=400)"
   ]
  },
  {
   "cell_type": "code",
   "execution_count": 3,
   "metadata": {},
   "outputs": [
    {
     "name": "stdout",
     "output_type": "stream",
     "text": [
      "You can open the visualizer by visiting the following URL:\n",
      "http://127.0.0.1:7004/static/\n"
     ]
    },
    {
     "data": {
      "text/html": [
       "\n",
       "            <div style=\"height: 400px; width: 100%; overflow-x: auto; overflow-y: hidden; resize: both\">\n",
       "            <iframe src=\"http://127.0.0.1:7004/static/\" style=\"width: 100%; height: 100%; border: none\"></iframe>\n",
       "            </div>\n",
       "            "
      ],
      "text/plain": [
       "<IPython.core.display.HTML object>"
      ]
     },
     "execution_count": 3,
     "metadata": {},
     "output_type": "execute_result"
    }
   ],
   "source": [
    "urdf_4310_file = \"assets/Assem_4310_JOINT/Assem_4310_JOINT/urdf/Assem_4310_JOINT.urdf\"\n",
    "r_4310_joint = revolute_joint(urdf_4310_file)\n",
    "viz = r_4310_joint.debug_visualization()\n",
    "\n",
    "viz.viewer.jupyter_cell(height=400)"
   ]
  },
  {
   "cell_type": "code",
   "execution_count": 4,
   "metadata": {},
   "outputs": [
    {
     "name": "stdout",
     "output_type": "stream",
     "text": [
      "You can open the visualizer by visiting the following URL:\n",
      "http://127.0.0.1:7005/static/\n"
     ]
    },
    {
     "data": {
      "text/html": [
       "\n",
       "            <div style=\"height: 400px; width: 100%; overflow-x: auto; overflow-y: hidden; resize: both\">\n",
       "            <iframe src=\"http://127.0.0.1:7005/static/\" style=\"width: 100%; height: 100%; border: none\"></iframe>\n",
       "            </div>\n",
       "            "
      ],
      "text/plain": [
       "<IPython.core.display.HTML object>"
      ]
     },
     "execution_count": 4,
     "metadata": {},
     "output_type": "execute_result"
    }
   ],
   "source": [
    "urdf_4310_base = \"assets/Assem_4310_BASE/Assem_4310_BASE/urdf/Assem_4310_BASE.urdf\"\n",
    "r_4310_base = revolute_joint(urdf_4310_base)\n",
    "viz = r_4310_base.debug_visualization()\n",
    "\n",
    "viz.viewer.jupyter_cell(height=400)"
   ]
  },
  {
   "cell_type": "code",
   "execution_count": 5,
   "metadata": {},
   "outputs": [
    {
     "name": "stdout",
     "output_type": "stream",
     "text": [
      "You can open the visualizer by visiting the following URL:\n",
      "http://127.0.0.1:7006/static/\n"
     ]
    },
    {
     "data": {
      "text/html": [
       "\n",
       "            <div style=\"height: 400px; width: 100%; overflow-x: auto; overflow-y: hidden; resize: both\">\n",
       "            <iframe src=\"http://127.0.0.1:7006/static/\" style=\"width: 100%; height: 100%; border: none\"></iframe>\n",
       "            </div>\n",
       "            "
      ],
      "text/plain": [
       "<IPython.core.display.HTML object>"
      ]
     },
     "execution_count": 5,
     "metadata": {},
     "output_type": "execute_result"
    }
   ],
   "source": [
    "urdf_4310_base = \"assets/Assem_4310_BASE/Assem_4310_BASE/urdf/Assem_4310_BASE.urdf\"\n",
    "base = base(urdf_4310_base)\n",
    "viz = base.debug_visualization()\n",
    "\n",
    "viz.viewer.jupyter_cell(height=400)"
   ]
  },
  {
   "cell_type": "code",
   "execution_count": 6,
   "metadata": {},
   "outputs": [
    {
     "name": "stdout",
     "output_type": "stream",
     "text": [
      "You can open the visualizer by visiting the following URL:\n",
      "http://127.0.0.1:7007/static/\n"
     ]
    },
    {
     "data": {
      "text/html": [
       "\n",
       "            <div style=\"height: 400px; width: 100%; overflow-x: auto; overflow-y: hidden; resize: both\">\n",
       "            <iframe src=\"http://127.0.0.1:7007/static/\" style=\"width: 100%; height: 100%; border: none\"></iframe>\n",
       "            </div>\n",
       "            "
      ],
      "text/plain": [
       "<IPython.core.display.HTML object>"
      ]
     },
     "execution_count": 6,
     "metadata": {},
     "output_type": "execute_result"
    }
   ],
   "source": [
    "links = i_links()\n",
    "viz = links.debug_visualization()\n",
    "viz.viewer.jupyter_cell(height=400)"
   ]
  },
  {
   "cell_type": "code",
   "execution_count": 7,
   "metadata": {},
   "outputs": [
    {
     "name": "stdout",
     "output_type": "stream",
     "text": [
      "{'i_15': <timor.Module.AtomicModule object at 0x7fab958b4f70>, 'motor4310_rev_joint': <timor.Module.AtomicModule object at 0x7fac68f10f70>, 'i_30': <timor.Module.AtomicModule object at 0x7fab958b5ae0>, 'motor4305_rev_joint': <timor.Module.AtomicModule object at 0x7fab958f27d0>, 'i_45': <timor.Module.AtomicModule object at 0x7fab958ff2b0>, 'base': <timor.Module.AtomicModule object at 0x7fab958b4640>}\n",
      "You can open the visualizer by visiting the following URL:\n",
      "http://127.0.0.1:7008/static/\n"
     ]
    },
    {
     "data": {
      "text/html": [
       "\n",
       "            <div style=\"height: 400px; width: 100%; overflow-x: auto; overflow-y: hidden; resize: both\">\n",
       "            <iframe src=\"http://127.0.0.1:7008/static/\" style=\"width: 100%; height: 100%; border: none\"></iframe>\n",
       "            </div>\n",
       "            "
      ],
      "text/plain": [
       "<IPython.core.display.HTML object>"
      ]
     },
     "execution_count": 7,
     "metadata": {},
     "output_type": "execute_result"
    }
   ],
   "source": [
    "db = ModulesDB()\n",
    "#db.add(r_4310_base)\n",
    "db.add(r_4310_joint)\n",
    "db.add(r_joint)\n",
    "db.add(base)\n",
    "db = db.union(links)\n",
    "print(db.by_id)\n",
    "viz = db.debug_visualization()\n",
    "viz.viewer.jupyter_cell(height=400)"
   ]
  },
  {
   "cell_type": "code",
   "execution_count": 8,
   "metadata": {},
   "outputs": [
    {
     "name": "stdout",
     "output_type": "stream",
     "text": [
      "You can open the visualizer by visiting the following URL:\n",
      "http://127.0.0.1:7009/static/\n"
     ]
    },
    {
     "data": {
      "text/html": [
       "\n",
       "            <div style=\"height: 400px; width: 100%; overflow-x: auto; overflow-y: hidden; resize: both\">\n",
       "            <iframe src=\"http://127.0.0.1:7009/static/\" style=\"width: 100%; height: 100%; border: none\"></iframe>\n",
       "            </div>\n",
       "            "
      ],
      "text/plain": [
       "<IPython.core.display.HTML object>"
      ]
     },
     "execution_count": 8,
     "metadata": {},
     "output_type": "execute_result"
    }
   ],
   "source": [
    "#modules = ('base', 'i_15')\n",
    "modules = ('base', 'i_15','motor4310_rev_joint')\n",
    "#modules = ('base', 'i_15','motor4310_rev_joint', 'i_15', 'motor4305_rev_joint')\n",
    "B = ModuleAssembly.from_serial_modules(db, modules)\n",
    "robot = B.to_pin_robot()\n",
    "viz = robot.visualize()\n",
    "viz.viewer.jupyter_cell(height=400)"
   ]
  }
 ],
 "metadata": {
  "kernelspec": {
   "display_name": "timor-env",
   "language": "python",
   "name": "python3"
  },
  "language_info": {
   "codemirror_mode": {
    "name": "ipython",
    "version": 3
   },
   "file_extension": ".py",
   "mimetype": "text/x-python",
   "name": "python",
   "nbconvert_exporter": "python",
   "pygments_lexer": "ipython3",
   "version": "3.10.15"
  }
 },
 "nbformat": 4,
 "nbformat_minor": 2
}
